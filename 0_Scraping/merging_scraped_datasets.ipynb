{
 "cells": [
  {
   "cell_type": "code",
   "execution_count": 5,
   "metadata": {},
   "outputs": [],
   "source": [
    "import pandas as pd \n",
    "import numpy as np\n",
    "from langdetect import detect\n",
    "import seaborn as sns\n",
    "import io \n",
    "#from s3_credentials import *"
   ]
  },
  {
   "cell_type": "code",
   "execution_count": 6,
   "metadata": {},
   "outputs": [],
   "source": [
    "import boto3"
   ]
  },
  {
   "cell_type": "code",
   "execution_count": 7,
   "metadata": {},
   "outputs": [],
   "source": [
    "# boto session \n",
    "#YOUR_ACCESS_KEY = \n",
    "#YOUR_SECRET_KEY = \n",
    "\n",
    "session = boto3.Session(aws_access_key_id= YOUR_ACCESS_KEY, \n",
    "                        aws_secret_access_key= YOUR_SECRET_KEY)\n",
    "\n",
    "s3 = session.resource(\"s3\")\n",
    "client = session.client(\"s3\")"
   ]
  },
  {
   "cell_type": "markdown",
   "metadata": {},
   "source": [
    "### Pull datasets"
   ]
  },
  {
   "cell_type": "code",
   "execution_count": 8,
   "metadata": {},
   "outputs": [],
   "source": [
    "#Pull subdatasets\n",
    "\n",
    "# real\n",
    "obj = s3.Object('jedha-fake-reviews-project', \"datasets/real_reviews_raw.csv\")\n",
    "real = pd.read_csv(io.BytesIO(obj.get()['Body'].read()), low_memory = False, index_col=0)\n",
    "\n",
    "# fake\n",
    "obj = s3.Object('jedha-fake-reviews-project', \"datasets/fake_reviews_raw.csv\")\n",
    "fake = pd.read_csv(io.BytesIO(obj.get()['Body'].read()), low_memory = False, index_col=0)\n"
   ]
  },
  {
   "cell_type": "markdown",
   "metadata": {},
   "source": [
    "### Merge both datasets"
   ]
  },
  {
   "cell_type": "code",
   "execution_count": 9,
   "metadata": {
    "scrolled": true
   },
   "outputs": [],
   "source": [
    "# find order columned list\n",
    "columns_list_ordered = real.columns.values.tolist()\n",
    "columns_list_ordered.append('url_not_recommended')\n",
    "\n",
    "# create mapping table \n",
    "pivot_table = real.loc[:, ['url','restaurant_average_rating','restaurant_reviews_count','restaurant_expensiveness','restaurant_name']].drop_duplicates('url')\n",
    "\n",
    "# merge fake with mapping table\n",
    "fake_merged = pd.merge(fake, pivot_table, left_on='url', right_on = 'url', how='left')\n",
    "\n",
    "fake_dataset_reworked = fake_merged.loc[:, columns_list_ordered]\n",
    "# second method --> fake_dataset_reworked = fake_merged.reindex(columns = columns_list_ordered) \n",
    "# this method requires to add suffixes=(\"_Drop\", None) to previosu merge\n",
    "\n",
    "\n",
    "# concat both and put into full_dataset\n",
    "full_dataset = pd.concat([real, fake_dataset_reworked])\n",
    "#if restaurant_expensiveness = 14 or 10, it is a miss-scrap, it means the information is not available on the page so we set the value to N/C\n",
    "full_dataset.loc[(full_dataset['restaurant_expensiveness'] == '14' ) | (full_dataset['restaurant_expensiveness'] == '10' ), 'restaurant_expensiveness'] = 'N/C'\n",
    "full_dataset = full_dataset.drop_duplicates()\n",
    "full_dataset = full_dataset.reset_index(drop = True)\n",
    "full_dataset['url_not_recommended'] = full_dataset['url'].apply(lambda url: url.replace(\"biz/\", \"not_recommended_reviews/\"))"
   ]
  },
  {
   "cell_type": "code",
   "execution_count": 10,
   "metadata": {},
   "outputs": [
    {
     "data": {
      "text/plain": [
       "94592"
      ]
     },
     "execution_count": 10,
     "metadata": {},
     "output_type": "execute_result"
    }
   ],
   "source": [
    "len(full_dataset)"
   ]
  },
  {
   "cell_type": "markdown",
   "metadata": {},
   "source": [
    "### (Optional) Function to return language for each "
   ]
  },
  {
   "cell_type": "code",
   "execution_count": null,
   "metadata": {},
   "outputs": [],
   "source": [
    "from langdetect import detect\n",
    "# def function \n",
    "def get_lang(x):\n",
    "\n",
    "    try:\n",
    "        lang = detect(str(x))\n",
    "    except:\n",
    "        lang = 'not_found'\n",
    "\n",
    "    return lang"
   ]
  },
  {
   "cell_type": "code",
   "execution_count": null,
   "metadata": {},
   "outputs": [],
   "source": [
    "# apply to df \n",
    "full_dataset['language'] = full_dataset[\"text_review\"].apply(lambda x : get_lang(x))"
   ]
  },
  {
   "cell_type": "markdown",
   "metadata": {},
   "source": [
    "### Push to bucket"
   ]
  },
  {
   "cell_type": "code",
   "execution_count": null,
   "metadata": {},
   "outputs": [],
   "source": [
    "# upload new dataset \n",
    "# set path and bucket name\n",
    "PATH = \"datasets/full_dataset.csv\"\n",
    "bucket = s3.Bucket(name = \"jedha-fake-reviews-project\")\n",
    "# export dataset as csv\n",
    "data = full_dataset.to_csv()\n",
    "put_object = bucket.put_object(ACL='private', Key= PATH, Body=data)\n",
    "#check \n",
    "for obj in bucket.objects.all():\n",
    "    print(obj.key)"
   ]
  },
  {
   "cell_type": "code",
   "execution_count": 11,
   "metadata": {},
   "outputs": [
    {
     "name": "stdout",
     "output_type": "stream",
     "text": [
      "datasets/fake_reviews_raw.csv\n",
      "datasets/full_dataset.csv\n",
      "datasets/full_dataset_reworked.csv\n",
      "datasets/real_reviews_raw.csv\n"
     ]
    }
   ],
   "source": [
    "bucket = s3.Bucket(name = \"jedha-fake-reviews-project\")\n",
    "for obj in bucket.objects.all():\n",
    "    print(obj.key)"
   ]
  },
  {
   "cell_type": "code",
   "execution_count": 19,
   "metadata": {},
   "outputs": [],
   "source": [
    "# real\n",
    "obj = s3.Object('jedha-fake-reviews-project', \"datasets/full_dataset.csv\")\n",
    "full_dataset = pd.read_csv(io.BytesIO(obj.get()['Body'].read()), low_memory = False, index_col=0)"
   ]
  },
  {
   "cell_type": "markdown",
   "metadata": {},
   "source": [
    "### Clean_dataset\n"
   ]
  },
  {
   "cell_type": "code",
   "execution_count": null,
   "metadata": {},
   "outputs": [],
   "source": [
    "#_____________________________________________________________________\n",
    "######### Cleaning the dataset and adding new columns #########\n",
    "#_____________________________________________________________________\n",
    "\n",
    "#we drop rows in which restaurant infos are not available (miss scraped)\n",
    "dataset = dataset.dropna(subset = ['restaurant_average_rating', 'restaurant_reviews_count', 'restaurant_expensiveness', 'restaurant_name'])\n",
    "\n",
    "#adding a column with the length of the text review\n",
    "dataset['text_length'] = dataset['text_review'].apply(lambda x : len(x))\n",
    "\n",
    "#_____________________________________________________________________\n",
    "######### Fixing existing columns values and types #########\n",
    "#_____________________________________________________________________\n",
    "\n",
    "#for the user_total_image_posted column, if user_total_image_posted is NA it means there is there's no image\n",
    "    # so we set the value to 0\n",
    "dataset.loc[dataset['user_total_image_posted'].isna(), 'user_total_image_posted'] = 0\n",
    "\n",
    "#for the date column,  there is some miss scraps that we want to fix\n",
    "    # a correct data must have a length of 10 , if it is smaller than 10 it's becasue we scrapped the number of images of the user instead\n",
    "    # we may have to scrap again those lines to fix it\n",
    "    # we keep only the rows where the date is correct \n",
    "mask_not_date = dataset['date'].apply(lambda x: len(x)) < 10\n",
    "dataset = dataset.loc[mask_not_date == False, :]\n",
    "    # if te length is greater than 10 is it is beacause we scraped the date + somme additional words ('Avis mis à jour') so we will keep only the part with the date\n",
    "mask_date_to_fix = dataset['date'].apply(lambda x: len(x)) > 10\n",
    "dataset.loc[mask_date_to_fix, 'date' ] = dataset.loc[mask_date_to_fix, 'date' ].str.split('\\n').str[0]\n",
    "    #finally we can convert the date column to a datetime format\n",
    "dataset['date'] = pd.to_datetime(dataset['date'])\n",
    "\n",
    "#for the photos_for_review column, \n",
    "    # value -1 is in fact 0 (no photos found by the scraper)\n",
    "dataset.loc[dataset['photos_for_review'] == '-1.0', 'photos_for_review' ] = '0'\n",
    "    # value L is in fact 0 (no photos found by the scraper but scraped the first letter of \"L'avis du jour\" which happens when the reviews was updated by the user)\n",
    "dataset.loc[dataset['photos_for_review'] == 'L', 'photos_for_review' ] = '0'\n",
    "    # finally we can convert the photos_for_review column to an int format\n",
    "dataset['photos_for_review'] = dataset['photos_for_review'].astype('int')\n",
    "\n",
    "#for the photos_for_review column, \n",
    "    # when there's no info about the expensiveness we set it to -1\n",
    "dataset.loc[dataset['restaurant_expensiveness'] == 'N/C', 'restaurant_expensiveness']  = -1\n",
    "    # we can convert the restaurant_expensiveness column to an int format\n",
    "dataset['restaurant_expensiveness'] = dataset['restaurant_expensiveness'].astype('int')\n",
    "\n",
    "# change is real review for is fake review as it's better for sklearn \n",
    "dataset[\"is_fake_review\"] = dataset[\"is_real_review\"].apply(lambda x: '1' if x == 0 else '0')\n",
    "dataset[\"is_fake_review\"] = dataset[\"is_fake_review\"].astype(int)\n",
    "dataset = dataset.drop(columns=\"is_real_review\")\n",
    "\n",
    "# reset index \n",
    "dataset = dataset.reset_index(drop = True)\n"
   ]
  }
 ],
 "metadata": {
  "kernelspec": {
   "display_name": "Python 3",
   "language": "python",
   "name": "python3"
  },
  "language_info": {
   "codemirror_mode": {
    "name": "ipython",
    "version": 3
   },
   "file_extension": ".py",
   "mimetype": "text/x-python",
   "name": "python",
   "nbconvert_exporter": "python",
   "pygments_lexer": "ipython3",
   "version": "3.8.3"
  }
 },
 "nbformat": 4,
 "nbformat_minor": 2
}
