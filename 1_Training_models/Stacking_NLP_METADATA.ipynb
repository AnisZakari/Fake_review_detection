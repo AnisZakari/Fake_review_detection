{
 "metadata": {
  "language_info": {
   "codemirror_mode": {
    "name": "ipython",
    "version": 3
   },
   "file_extension": ".py",
   "mimetype": "text/x-python",
   "name": "python",
   "nbconvert_exporter": "python",
   "pygments_lexer": "ipython3",
   "version": "3.7.9-final"
  },
  "orig_nbformat": 2,
  "kernelspec": {
   "name": "python3",
   "display_name": "Python 3",
   "language": "python"
  }
 },
 "nbformat": 4,
 "nbformat_minor": 2,
 "cells": [
  {
   "cell_type": "code",
   "execution_count": 37,
   "metadata": {},
   "outputs": [],
   "source": [
    "import pandas as pd \n",
    "import numpy as np\n",
    "from langdetect import detect\n",
    "import seaborn as sns\n",
    "import io \n",
    "from s3_credentials import *\n",
    "import boto3\n",
    "\n",
    "import seaborn as sns\n",
    "\n",
    "from sklearn.model_selection import train_test_split\n",
    "from sklearn.pipeline import Pipeline\n",
    "from sklearn.impute import SimpleImputer\n",
    "from sklearn.preprocessing import StandardScaler\n",
    "from sklearn.preprocessing import OneHotEncoder\n",
    "from sklearn.compose import ColumnTransformer\n",
    "from sklearn.linear_model import LogisticRegression\n",
    "from sklearn.naive_bayes import GaussianNB\n",
    "from sklearn.metrics import classification_report\n",
    "from sklearn.metrics import f1_score\n",
    "from sklearn.datasets import make_classification\n",
    "from sklearn.model_selection import GridSearchCV\n",
    "from sklearn.model_selection import RepeatedStratifiedKFold\n",
    "from sklearn.model_selection import cross_val_score, cross_val_predict\n",
    "from sklearn import metrics"
   ]
  },
  {
   "cell_type": "code",
   "execution_count": 2,
   "metadata": {},
   "outputs": [
    {
     "output_type": "stream",
     "name": "stdout",
     "text": [
      "/Users/admin/Jedha\n"
     ]
    }
   ],
   "source": [
    "cd '/Users/admin/Jedha/'"
   ]
  },
  {
   "cell_type": "code",
   "execution_count": 4,
   "metadata": {},
   "outputs": [],
   "source": [
    "# boto session \n",
    "#YOUR_ACCESS_KEY = \n",
    "#YOUR_SECRET_KEY = \n",
    "\n",
    "session = boto3.Session(aws_access_key_id= YOUR_ACCESS_KEY, \n",
    "                        aws_secret_access_key= YOUR_SECRET_KEY)\n",
    "\n",
    "s3 = session.resource(\"s3\")\n",
    "client = session.client(\"s3\")"
   ]
  },
  {
   "cell_type": "code",
   "execution_count": 8,
   "metadata": {},
   "outputs": [],
   "source": [
    "#Pull subdatasets\n",
    "\n",
    "# NLP pred\n",
    "obj = s3.Object('jedha-fake-reviews-project', \"datasets/predictions_svm_nlp.csv\")\n",
    "NLP_pred = pd.read_csv(io.BytesIO(obj.get()['Body'].read()), low_memory = False, index_col=0)\n",
    "\n",
    "# Meta pred\n",
    "obj = s3.Object('jedha-fake-reviews-project', \"datasets/prediction_meta_data.csv\")\n",
    "Meta_pred = pd.read_csv(io.BytesIO(obj.get()['Body'].read()), low_memory = False, index_col=0)\n"
   ]
  },
  {
   "cell_type": "code",
   "execution_count": 20,
   "metadata": {},
   "outputs": [],
   "source": [
    "dataset = pd.DataFrame(dict(NLP  = NLP_pred.iloc[:,1],\n",
    "                           Meta_data = Meta_pred['predict_proba'],\n",
    "                           is_fake_review =  Meta_pred['is_fake_review']\n",
    "                                )\n",
    "                                )\n"
   ]
  },
  {
   "cell_type": "code",
   "execution_count": 23,
   "metadata": {},
   "outputs": [
    {
     "output_type": "execute_result",
     "data": {
      "text/plain": [
       "0        0\n",
       "1        0\n",
       "2        0\n",
       "3        0\n",
       "4        0\n",
       "        ..\n",
       "87046    1\n",
       "87047    1\n",
       "87048    1\n",
       "87049    1\n",
       "87050    1\n",
       "Name: is_fake_review, Length: 87051, dtype: int64"
      ]
     },
     "metadata": {},
     "execution_count": 23
    }
   ],
   "source": [
    "dataset['is_fake_review']"
   ]
  },
  {
   "source": [
    "## Logistic Regression"
   ],
   "cell_type": "markdown",
   "metadata": {}
  },
  {
   "cell_type": "code",
   "execution_count": 35,
   "metadata": {},
   "outputs": [
    {
     "output_type": "execute_result",
     "data": {
      "text/plain": [
       "LogisticRegression(C=1, class_weight={0: 1, 1: 2.1})"
      ]
     },
     "metadata": {},
     "execution_count": 35
    }
   ],
   "source": [
    "X = dataset[['NLP', 'Meta_data']]\n",
    "y = dataset['is_fake_review']\n",
    "\n",
    "\n",
    "X = X.values\n",
    "y = np.array(y)\n",
    "\n",
    "X_train, X_test, y_train, y_test = train_test_split(X, y, test_size=0.20, random_state=42, stratify = y)\n",
    "\n",
    "\n",
    "\n",
    "# Train model\n",
    "model = LogisticRegression(C=1, class_weight={0:1, 1:2.1}, dual=False, fit_intercept=True,\n",
    "                   intercept_scaling=1, l1_ratio=None, max_iter=100,\n",
    "                   multi_class='auto', n_jobs=None, penalty='l2',\n",
    "                   random_state=None, solver='lbfgs', tol=0.0001, verbose=0,\n",
    "                   warm_start=False)\n",
    "\n",
    "\n",
    "model.fit(X_train, y_train)\n",
    "\n",
    "\n",
    "\n"
   ]
  },
  {
   "cell_type": "code",
   "execution_count": 34,
   "metadata": {
    "tags": [
     "outputPrepend"
    ]
   },
   "outputs": [
    {
     "output_type": "stream",
     "name": "stdout",
     "text": [
      "}}\n0.734864 (0.016332) with: {'C': 24.500000000000004, 'class_weight': {0: 1, 1: 2.1}}\n0.734864 (0.016332) with: {'C': 24.6, 'class_weight': {0: 1, 1: 2.1}}\n0.734864 (0.016332) with: {'C': 24.700000000000003, 'class_weight': {0: 1, 1: 2.1}}\n0.734864 (0.016332) with: {'C': 24.800000000000004, 'class_weight': {0: 1, 1: 2.1}}\n0.734864 (0.016332) with: {'C': 24.900000000000002, 'class_weight': {0: 1, 1: 2.1}}\n0.734864 (0.016332) with: {'C': 25.000000000000004, 'class_weight': {0: 1, 1: 2.1}}\n0.734864 (0.016332) with: {'C': 25.1, 'class_weight': {0: 1, 1: 2.1}}\n0.734864 (0.016332) with: {'C': 25.200000000000003, 'class_weight': {0: 1, 1: 2.1}}\n0.734864 (0.016332) with: {'C': 25.300000000000004, 'class_weight': {0: 1, 1: 2.1}}\n0.734864 (0.016332) with: {'C': 25.400000000000002, 'class_weight': {0: 1, 1: 2.1}}\n0.734864 (0.016332) with: {'C': 25.500000000000004, 'class_weight': {0: 1, 1: 2.1}}\n0.734864 (0.016332) with: {'C': 25.6, 'class_weight': {0: 1, 1: 2.1}}\n0.734864 (0.016332) with: {'C': 25.700000000000003, 'class_weight': {0: 1, 1: 2.1}}\n0.734864 (0.016332) with: {'C': 25.800000000000004, 'class_weight': {0: 1, 1: 2.1}}\n0.734864 (0.016332) with: {'C': 25.900000000000002, 'class_weight': {0: 1, 1: 2.1}}\n0.734864 (0.016332) with: {'C': 26.000000000000004, 'class_weight': {0: 1, 1: 2.1}}\n0.734864 (0.016332) with: {'C': 26.1, 'class_weight': {0: 1, 1: 2.1}}\n0.734864 (0.016332) with: {'C': 26.200000000000003, 'class_weight': {0: 1, 1: 2.1}}\n0.734864 (0.016332) with: {'C': 26.300000000000004, 'class_weight': {0: 1, 1: 2.1}}\n0.734864 (0.016332) with: {'C': 26.400000000000002, 'class_weight': {0: 1, 1: 2.1}}\n0.734864 (0.016332) with: {'C': 26.500000000000004, 'class_weight': {0: 1, 1: 2.1}}\n0.734864 (0.016332) with: {'C': 26.6, 'class_weight': {0: 1, 1: 2.1}}\n0.734864 (0.016332) with: {'C': 26.700000000000003, 'class_weight': {0: 1, 1: 2.1}}\n0.734864 (0.016332) with: {'C': 26.800000000000004, 'class_weight': {0: 1, 1: 2.1}}\n0.734864 (0.016332) with: {'C': 26.900000000000002, 'class_weight': {0: 1, 1: 2.1}}\n0.734864 (0.016332) with: {'C': 27.000000000000004, 'class_weight': {0: 1, 1: 2.1}}\n0.734864 (0.016332) with: {'C': 27.1, 'class_weight': {0: 1, 1: 2.1}}\n0.734864 (0.016332) with: {'C': 27.200000000000003, 'class_weight': {0: 1, 1: 2.1}}\n0.734864 (0.016332) with: {'C': 27.300000000000004, 'class_weight': {0: 1, 1: 2.1}}\n0.734864 (0.016332) with: {'C': 27.400000000000002, 'class_weight': {0: 1, 1: 2.1}}\n0.734864 (0.016332) with: {'C': 27.500000000000004, 'class_weight': {0: 1, 1: 2.1}}\n0.734864 (0.016332) with: {'C': 27.6, 'class_weight': {0: 1, 1: 2.1}}\n0.734864 (0.016332) with: {'C': 27.700000000000003, 'class_weight': {0: 1, 1: 2.1}}\n0.734864 (0.016332) with: {'C': 27.800000000000004, 'class_weight': {0: 1, 1: 2.1}}\n0.734864 (0.016332) with: {'C': 27.900000000000002, 'class_weight': {0: 1, 1: 2.1}}\n0.734864 (0.016332) with: {'C': 28.000000000000004, 'class_weight': {0: 1, 1: 2.1}}\n0.734864 (0.016332) with: {'C': 28.1, 'class_weight': {0: 1, 1: 2.1}}\n0.734864 (0.016332) with: {'C': 28.200000000000003, 'class_weight': {0: 1, 1: 2.1}}\n0.734864 (0.016332) with: {'C': 28.300000000000004, 'class_weight': {0: 1, 1: 2.1}}\n0.734864 (0.016332) with: {'C': 28.400000000000002, 'class_weight': {0: 1, 1: 2.1}}\n0.734864 (0.016332) with: {'C': 28.500000000000004, 'class_weight': {0: 1, 1: 2.1}}\n0.734864 (0.016332) with: {'C': 28.6, 'class_weight': {0: 1, 1: 2.1}}\n0.734864 (0.016332) with: {'C': 28.700000000000003, 'class_weight': {0: 1, 1: 2.1}}\n0.734864 (0.016332) with: {'C': 28.800000000000004, 'class_weight': {0: 1, 1: 2.1}}\n0.734864 (0.016332) with: {'C': 28.900000000000002, 'class_weight': {0: 1, 1: 2.1}}\n0.734864 (0.016332) with: {'C': 29.000000000000004, 'class_weight': {0: 1, 1: 2.1}}\n0.734864 (0.016332) with: {'C': 29.1, 'class_weight': {0: 1, 1: 2.1}}\n0.734864 (0.016332) with: {'C': 29.200000000000003, 'class_weight': {0: 1, 1: 2.1}}\n0.734864 (0.016332) with: {'C': 29.300000000000004, 'class_weight': {0: 1, 1: 2.1}}\n0.734864 (0.016332) with: {'C': 29.400000000000002, 'class_weight': {0: 1, 1: 2.1}}\n0.734864 (0.016332) with: {'C': 29.500000000000004, 'class_weight': {0: 1, 1: 2.1}}\n0.734864 (0.016332) with: {'C': 29.6, 'class_weight': {0: 1, 1: 2.1}}\n0.734864 (0.016332) with: {'C': 29.700000000000003, 'class_weight': {0: 1, 1: 2.1}}\n0.734864 (0.016332) with: {'C': 29.800000000000004, 'class_weight': {0: 1, 1: 2.1}}\n0.734864 (0.016332) with: {'C': 29.900000000000002, 'class_weight': {0: 1, 1: 2.1}}\n0.734864 (0.016332) with: {'C': 30.000000000000004, 'class_weight': {0: 1, 1: 2.1}}\n0.734864 (0.016332) with: {'C': 30.1, 'class_weight': {0: 1, 1: 2.1}}\n0.734864 (0.016332) with: {'C': 30.200000000000003, 'class_weight': {0: 1, 1: 2.1}}\n0.734864 (0.016332) with: {'C': 30.300000000000004, 'class_weight': {0: 1, 1: 2.1}}\n0.734864 (0.016332) with: {'C': 30.400000000000002, 'class_weight': {0: 1, 1: 2.1}}\n0.734864 (0.016332) with: {'C': 30.500000000000004, 'class_weight': {0: 1, 1: 2.1}}\n0.734864 (0.016332) with: {'C': 30.6, 'class_weight': {0: 1, 1: 2.1}}\n0.734864 (0.016332) with: {'C': 30.700000000000003, 'class_weight': {0: 1, 1: 2.1}}\n0.734864 (0.016332) with: {'C': 30.800000000000004, 'class_weight': {0: 1, 1: 2.1}}\n0.734864 (0.016332) with: {'C': 30.900000000000002, 'class_weight': {0: 1, 1: 2.1}}\n0.734864 (0.016332) with: {'C': 31.000000000000004, 'class_weight': {0: 1, 1: 2.1}}\n0.734864 (0.016332) with: {'C': 31.1, 'class_weight': {0: 1, 1: 2.1}}\n0.734864 (0.016332) with: {'C': 31.200000000000003, 'class_weight': {0: 1, 1: 2.1}}\n0.734825 (0.016351) with: {'C': 31.300000000000004, 'class_weight': {0: 1, 1: 2.1}}\n0.734825 (0.016351) with: {'C': 31.400000000000002, 'class_weight': {0: 1, 1: 2.1}}\n0.734825 (0.016351) with: {'C': 31.500000000000004, 'class_weight': {0: 1, 1: 2.1}}\n0.734825 (0.016351) with: {'C': 31.6, 'class_weight': {0: 1, 1: 2.1}}\n0.734825 (0.016351) with: {'C': 31.700000000000003, 'class_weight': {0: 1, 1: 2.1}}\n0.734825 (0.016351) with: {'C': 31.800000000000004, 'class_weight': {0: 1, 1: 2.1}}\n0.734825 (0.016351) with: {'C': 31.900000000000002, 'class_weight': {0: 1, 1: 2.1}}\n0.734825 (0.016351) with: {'C': 32.0, 'class_weight': {0: 1, 1: 2.1}}\n0.734825 (0.016351) with: {'C': 32.1, 'class_weight': {0: 1, 1: 2.1}}\n0.734825 (0.016351) with: {'C': 32.2, 'class_weight': {0: 1, 1: 2.1}}\n0.734825 (0.016351) with: {'C': 32.300000000000004, 'class_weight': {0: 1, 1: 2.1}}\n0.734825 (0.016351) with: {'C': 32.400000000000006, 'class_weight': {0: 1, 1: 2.1}}\n0.734825 (0.016351) with: {'C': 32.5, 'class_weight': {0: 1, 1: 2.1}}\n0.734825 (0.016351) with: {'C': 32.6, 'class_weight': {0: 1, 1: 2.1}}\n0.734825 (0.016351) with: {'C': 32.7, 'class_weight': {0: 1, 1: 2.1}}\n0.734825 (0.016351) with: {'C': 32.800000000000004, 'class_weight': {0: 1, 1: 2.1}}\n0.734825 (0.016351) with: {'C': 32.900000000000006, 'class_weight': {0: 1, 1: 2.1}}\n0.734825 (0.016351) with: {'C': 33.0, 'class_weight': {0: 1, 1: 2.1}}\n0.734825 (0.016351) with: {'C': 33.1, 'class_weight': {0: 1, 1: 2.1}}\n0.734825 (0.016351) with: {'C': 33.2, 'class_weight': {0: 1, 1: 2.1}}\n0.734825 (0.016351) with: {'C': 33.300000000000004, 'class_weight': {0: 1, 1: 2.1}}\n0.734825 (0.016351) with: {'C': 33.400000000000006, 'class_weight': {0: 1, 1: 2.1}}\n0.734825 (0.016351) with: {'C': 33.5, 'class_weight': {0: 1, 1: 2.1}}\n0.734825 (0.016351) with: {'C': 33.6, 'class_weight': {0: 1, 1: 2.1}}\n0.734825 (0.016351) with: {'C': 33.7, 'class_weight': {0: 1, 1: 2.1}}\n0.734825 (0.016351) with: {'C': 33.800000000000004, 'class_weight': {0: 1, 1: 2.1}}\n0.734825 (0.016351) with: {'C': 33.900000000000006, 'class_weight': {0: 1, 1: 2.1}}\n0.734825 (0.016351) with: {'C': 34.0, 'class_weight': {0: 1, 1: 2.1}}\n0.734825 (0.016351) with: {'C': 34.1, 'class_weight': {0: 1, 1: 2.1}}\n0.734825 (0.016351) with: {'C': 34.2, 'class_weight': {0: 1, 1: 2.1}}\n0.734825 (0.016351) with: {'C': 34.300000000000004, 'class_weight': {0: 1, 1: 2.1}}\n0.734825 (0.016351) with: {'C': 34.400000000000006, 'class_weight': {0: 1, 1: 2.1}}\n0.734825 (0.016351) with: {'C': 34.5, 'class_weight': {0: 1, 1: 2.1}}\n0.734825 (0.016351) with: {'C': 34.6, 'class_weight': {0: 1, 1: 2.1}}\n0.734825 (0.016351) with: {'C': 34.7, 'class_weight': {0: 1, 1: 2.1}}\n0.734825 (0.016351) with: {'C': 34.800000000000004, 'class_weight': {0: 1, 1: 2.1}}\n0.734825 (0.016351) with: {'C': 34.900000000000006, 'class_weight': {0: 1, 1: 2.1}}\n0.734825 (0.016351) with: {'C': 35.0, 'class_weight': {0: 1, 1: 2.1}}\n0.734825 (0.016351) with: {'C': 35.1, 'class_weight': {0: 1, 1: 2.1}}\n0.734825 (0.016351) with: {'C': 35.2, 'class_weight': {0: 1, 1: 2.1}}\n0.734825 (0.016351) with: {'C': 35.300000000000004, 'class_weight': {0: 1, 1: 2.1}}\n0.734825 (0.016351) with: {'C': 35.400000000000006, 'class_weight': {0: 1, 1: 2.1}}\n0.734825 (0.016351) with: {'C': 35.5, 'class_weight': {0: 1, 1: 2.1}}\n0.734825 (0.016351) with: {'C': 35.6, 'class_weight': {0: 1, 1: 2.1}}\n0.734825 (0.016351) with: {'C': 35.7, 'class_weight': {0: 1, 1: 2.1}}\n0.734825 (0.016351) with: {'C': 35.800000000000004, 'class_weight': {0: 1, 1: 2.1}}\n0.734825 (0.016351) with: {'C': 35.900000000000006, 'class_weight': {0: 1, 1: 2.1}}\n0.734825 (0.016351) with: {'C': 36.0, 'class_weight': {0: 1, 1: 2.1}}\n0.734825 (0.016351) with: {'C': 36.1, 'class_weight': {0: 1, 1: 2.1}}\n0.734825 (0.016351) with: {'C': 36.2, 'class_weight': {0: 1, 1: 2.1}}\n0.734825 (0.016351) with: {'C': 36.300000000000004, 'class_weight': {0: 1, 1: 2.1}}\n0.734825 (0.016351) with: {'C': 36.400000000000006, 'class_weight': {0: 1, 1: 2.1}}\n0.734825 (0.016351) with: {'C': 36.5, 'class_weight': {0: 1, 1: 2.1}}\n0.734825 (0.016351) with: {'C': 36.6, 'class_weight': {0: 1, 1: 2.1}}\n0.734825 (0.016351) with: {'C': 36.7, 'class_weight': {0: 1, 1: 2.1}}\n0.734825 (0.016351) with: {'C': 36.800000000000004, 'class_weight': {0: 1, 1: 2.1}}\n0.734825 (0.016351) with: {'C': 36.900000000000006, 'class_weight': {0: 1, 1: 2.1}}\n0.734825 (0.016351) with: {'C': 37.0, 'class_weight': {0: 1, 1: 2.1}}\n0.734825 (0.016351) with: {'C': 37.1, 'class_weight': {0: 1, 1: 2.1}}\n0.734825 (0.016351) with: {'C': 37.2, 'class_weight': {0: 1, 1: 2.1}}\n0.734825 (0.016351) with: {'C': 37.300000000000004, 'class_weight': {0: 1, 1: 2.1}}\n0.734825 (0.016351) with: {'C': 37.400000000000006, 'class_weight': {0: 1, 1: 2.1}}\n0.734825 (0.016351) with: {'C': 37.5, 'class_weight': {0: 1, 1: 2.1}}\n0.734825 (0.016351) with: {'C': 37.6, 'class_weight': {0: 1, 1: 2.1}}\n0.734825 (0.016351) with: {'C': 37.7, 'class_weight': {0: 1, 1: 2.1}}\n0.734825 (0.016351) with: {'C': 37.800000000000004, 'class_weight': {0: 1, 1: 2.1}}\n0.734825 (0.016351) with: {'C': 37.900000000000006, 'class_weight': {0: 1, 1: 2.1}}\n0.734825 (0.016351) with: {'C': 38.0, 'class_weight': {0: 1, 1: 2.1}}\n0.734825 (0.016351) with: {'C': 38.1, 'class_weight': {0: 1, 1: 2.1}}\n0.734825 (0.016351) with: {'C': 38.2, 'class_weight': {0: 1, 1: 2.1}}\n0.734825 (0.016351) with: {'C': 38.300000000000004, 'class_weight': {0: 1, 1: 2.1}}\n0.734825 (0.016351) with: {'C': 38.400000000000006, 'class_weight': {0: 1, 1: 2.1}}\n0.734825 (0.016351) with: {'C': 38.50000000000001, 'class_weight': {0: 1, 1: 2.1}}\n0.734825 (0.016351) with: {'C': 38.6, 'class_weight': {0: 1, 1: 2.1}}\n0.734825 (0.016351) with: {'C': 38.7, 'class_weight': {0: 1, 1: 2.1}}\n0.734825 (0.016351) with: {'C': 38.800000000000004, 'class_weight': {0: 1, 1: 2.1}}\n0.734825 (0.016351) with: {'C': 38.900000000000006, 'class_weight': {0: 1, 1: 2.1}}\n0.734825 (0.016351) with: {'C': 39.00000000000001, 'class_weight': {0: 1, 1: 2.1}}\n0.734825 (0.016351) with: {'C': 39.1, 'class_weight': {0: 1, 1: 2.1}}\n0.734825 (0.016351) with: {'C': 39.2, 'class_weight': {0: 1, 1: 2.1}}\n0.734825 (0.016351) with: {'C': 39.300000000000004, 'class_weight': {0: 1, 1: 2.1}}\n0.734825 (0.016351) with: {'C': 39.400000000000006, 'class_weight': {0: 1, 1: 2.1}}\n0.734825 (0.016351) with: {'C': 39.50000000000001, 'class_weight': {0: 1, 1: 2.1}}\n0.734825 (0.016351) with: {'C': 39.6, 'class_weight': {0: 1, 1: 2.1}}\n0.734825 (0.016351) with: {'C': 39.7, 'class_weight': {0: 1, 1: 2.1}}\n0.734825 (0.016351) with: {'C': 39.800000000000004, 'class_weight': {0: 1, 1: 2.1}}\n0.734825 (0.016351) with: {'C': 39.900000000000006, 'class_weight': {0: 1, 1: 2.1}}\n0.734825 (0.016351) with: {'C': 40.00000000000001, 'class_weight': {0: 1, 1: 2.1}}\n0.734825 (0.016351) with: {'C': 40.1, 'class_weight': {0: 1, 1: 2.1}}\n0.734825 (0.016351) with: {'C': 40.2, 'class_weight': {0: 1, 1: 2.1}}\n0.734825 (0.016351) with: {'C': 40.300000000000004, 'class_weight': {0: 1, 1: 2.1}}\n0.734825 (0.016351) with: {'C': 40.400000000000006, 'class_weight': {0: 1, 1: 2.1}}\n0.734825 (0.016351) with: {'C': 40.50000000000001, 'class_weight': {0: 1, 1: 2.1}}\n0.734825 (0.016351) with: {'C': 40.6, 'class_weight': {0: 1, 1: 2.1}}\n0.734825 (0.016351) with: {'C': 40.7, 'class_weight': {0: 1, 1: 2.1}}\n0.734825 (0.016351) with: {'C': 40.800000000000004, 'class_weight': {0: 1, 1: 2.1}}\n0.734825 (0.016351) with: {'C': 40.900000000000006, 'class_weight': {0: 1, 1: 2.1}}\n0.734825 (0.016351) with: {'C': 41.00000000000001, 'class_weight': {0: 1, 1: 2.1}}\n0.734825 (0.016351) with: {'C': 41.1, 'class_weight': {0: 1, 1: 2.1}}\n0.734825 (0.016351) with: {'C': 41.2, 'class_weight': {0: 1, 1: 2.1}}\n0.734825 (0.016351) with: {'C': 41.300000000000004, 'class_weight': {0: 1, 1: 2.1}}\n0.734825 (0.016351) with: {'C': 41.400000000000006, 'class_weight': {0: 1, 1: 2.1}}\n0.734825 (0.016351) with: {'C': 41.50000000000001, 'class_weight': {0: 1, 1: 2.1}}\n0.734825 (0.016351) with: {'C': 41.6, 'class_weight': {0: 1, 1: 2.1}}\n0.734825 (0.016351) with: {'C': 41.7, 'class_weight': {0: 1, 1: 2.1}}\n0.734825 (0.016351) with: {'C': 41.800000000000004, 'class_weight': {0: 1, 1: 2.1}}\n0.734825 (0.016351) with: {'C': 41.900000000000006, 'class_weight': {0: 1, 1: 2.1}}\n0.734825 (0.016351) with: {'C': 42.00000000000001, 'class_weight': {0: 1, 1: 2.1}}\n0.734825 (0.016351) with: {'C': 42.1, 'class_weight': {0: 1, 1: 2.1}}\n0.734825 (0.016351) with: {'C': 42.2, 'class_weight': {0: 1, 1: 2.1}}\n0.734825 (0.016351) with: {'C': 42.300000000000004, 'class_weight': {0: 1, 1: 2.1}}\n0.734825 (0.016351) with: {'C': 42.400000000000006, 'class_weight': {0: 1, 1: 2.1}}\n0.734825 (0.016351) with: {'C': 42.50000000000001, 'class_weight': {0: 1, 1: 2.1}}\n0.734825 (0.016351) with: {'C': 42.6, 'class_weight': {0: 1, 1: 2.1}}\n0.734825 (0.016351) with: {'C': 42.7, 'class_weight': {0: 1, 1: 2.1}}\n0.734825 (0.016351) with: {'C': 42.800000000000004, 'class_weight': {0: 1, 1: 2.1}}\n0.734825 (0.016351) with: {'C': 42.900000000000006, 'class_weight': {0: 1, 1: 2.1}}\n0.734825 (0.016351) with: {'C': 43.00000000000001, 'class_weight': {0: 1, 1: 2.1}}\n0.734825 (0.016351) with: {'C': 43.1, 'class_weight': {0: 1, 1: 2.1}}\n0.734825 (0.016351) with: {'C': 43.2, 'class_weight': {0: 1, 1: 2.1}}\n0.734825 (0.016351) with: {'C': 43.300000000000004, 'class_weight': {0: 1, 1: 2.1}}\n0.734825 (0.016351) with: {'C': 43.400000000000006, 'class_weight': {0: 1, 1: 2.1}}\n0.734825 (0.016351) with: {'C': 43.50000000000001, 'class_weight': {0: 1, 1: 2.1}}\n0.734825 (0.016351) with: {'C': 43.6, 'class_weight': {0: 1, 1: 2.1}}\n0.734825 (0.016351) with: {'C': 43.7, 'class_weight': {0: 1, 1: 2.1}}\n0.734825 (0.016351) with: {'C': 43.800000000000004, 'class_weight': {0: 1, 1: 2.1}}\n0.734825 (0.016351) with: {'C': 43.900000000000006, 'class_weight': {0: 1, 1: 2.1}}\n0.734825 (0.016351) with: {'C': 44.00000000000001, 'class_weight': {0: 1, 1: 2.1}}\n0.734825 (0.016351) with: {'C': 44.1, 'class_weight': {0: 1, 1: 2.1}}\n0.734825 (0.016351) with: {'C': 44.2, 'class_weight': {0: 1, 1: 2.1}}\n0.734825 (0.016351) with: {'C': 44.300000000000004, 'class_weight': {0: 1, 1: 2.1}}\n0.734825 (0.016351) with: {'C': 44.400000000000006, 'class_weight': {0: 1, 1: 2.1}}\n0.734825 (0.016351) with: {'C': 44.50000000000001, 'class_weight': {0: 1, 1: 2.1}}\n0.734825 (0.016351) with: {'C': 44.6, 'class_weight': {0: 1, 1: 2.1}}\n0.734825 (0.016351) with: {'C': 44.7, 'class_weight': {0: 1, 1: 2.1}}\n0.734825 (0.016351) with: {'C': 44.800000000000004, 'class_weight': {0: 1, 1: 2.1}}\n0.734825 (0.016351) with: {'C': 44.900000000000006, 'class_weight': {0: 1, 1: 2.1}}\n0.734825 (0.016351) with: {'C': 45.00000000000001, 'class_weight': {0: 1, 1: 2.1}}\n0.734825 (0.016351) with: {'C': 45.1, 'class_weight': {0: 1, 1: 2.1}}\n0.734825 (0.016351) with: {'C': 45.2, 'class_weight': {0: 1, 1: 2.1}}\n0.734825 (0.016351) with: {'C': 45.300000000000004, 'class_weight': {0: 1, 1: 2.1}}\n0.734825 (0.016351) with: {'C': 45.400000000000006, 'class_weight': {0: 1, 1: 2.1}}\n0.734825 (0.016351) with: {'C': 45.50000000000001, 'class_weight': {0: 1, 1: 2.1}}\n0.734825 (0.016351) with: {'C': 45.6, 'class_weight': {0: 1, 1: 2.1}}\n0.734825 (0.016351) with: {'C': 45.7, 'class_weight': {0: 1, 1: 2.1}}\n0.734825 (0.016351) with: {'C': 45.800000000000004, 'class_weight': {0: 1, 1: 2.1}}\n0.734825 (0.016351) with: {'C': 45.900000000000006, 'class_weight': {0: 1, 1: 2.1}}\n0.734825 (0.016351) with: {'C': 46.00000000000001, 'class_weight': {0: 1, 1: 2.1}}\n0.734825 (0.016351) with: {'C': 46.1, 'class_weight': {0: 1, 1: 2.1}}\n0.734825 (0.016351) with: {'C': 46.2, 'class_weight': {0: 1, 1: 2.1}}\n0.734825 (0.016351) with: {'C': 46.300000000000004, 'class_weight': {0: 1, 1: 2.1}}\n0.734825 (0.016351) with: {'C': 46.400000000000006, 'class_weight': {0: 1, 1: 2.1}}\n0.734825 (0.016351) with: {'C': 46.50000000000001, 'class_weight': {0: 1, 1: 2.1}}\n0.734825 (0.016351) with: {'C': 46.6, 'class_weight': {0: 1, 1: 2.1}}\n0.734825 (0.016351) with: {'C': 46.7, 'class_weight': {0: 1, 1: 2.1}}\n0.734825 (0.016351) with: {'C': 46.800000000000004, 'class_weight': {0: 1, 1: 2.1}}\n0.734825 (0.016351) with: {'C': 46.900000000000006, 'class_weight': {0: 1, 1: 2.1}}\n0.734825 (0.016351) with: {'C': 47.00000000000001, 'class_weight': {0: 1, 1: 2.1}}\n0.734825 (0.016351) with: {'C': 47.1, 'class_weight': {0: 1, 1: 2.1}}\n0.734825 (0.016351) with: {'C': 47.2, 'class_weight': {0: 1, 1: 2.1}}\n0.734825 (0.016351) with: {'C': 47.300000000000004, 'class_weight': {0: 1, 1: 2.1}}\n0.734825 (0.016351) with: {'C': 47.400000000000006, 'class_weight': {0: 1, 1: 2.1}}\n0.734825 (0.016351) with: {'C': 47.50000000000001, 'class_weight': {0: 1, 1: 2.1}}\n0.734825 (0.016351) with: {'C': 47.6, 'class_weight': {0: 1, 1: 2.1}}\n0.734825 (0.016351) with: {'C': 47.7, 'class_weight': {0: 1, 1: 2.1}}\n0.734825 (0.016351) with: {'C': 47.800000000000004, 'class_weight': {0: 1, 1: 2.1}}\n0.734825 (0.016351) with: {'C': 47.900000000000006, 'class_weight': {0: 1, 1: 2.1}}\n0.734825 (0.016351) with: {'C': 48.00000000000001, 'class_weight': {0: 1, 1: 2.1}}\n0.734825 (0.016351) with: {'C': 48.1, 'class_weight': {0: 1, 1: 2.1}}\n0.734825 (0.016351) with: {'C': 48.2, 'class_weight': {0: 1, 1: 2.1}}\n0.734825 (0.016351) with: {'C': 48.300000000000004, 'class_weight': {0: 1, 1: 2.1}}\n0.734825 (0.016351) with: {'C': 48.400000000000006, 'class_weight': {0: 1, 1: 2.1}}\n0.734825 (0.016351) with: {'C': 48.50000000000001, 'class_weight': {0: 1, 1: 2.1}}\n0.734825 (0.016351) with: {'C': 48.6, 'class_weight': {0: 1, 1: 2.1}}\n0.734825 (0.016351) with: {'C': 48.7, 'class_weight': {0: 1, 1: 2.1}}\n0.734825 (0.016351) with: {'C': 48.800000000000004, 'class_weight': {0: 1, 1: 2.1}}\n0.734825 (0.016351) with: {'C': 48.900000000000006, 'class_weight': {0: 1, 1: 2.1}}\n0.734825 (0.016351) with: {'C': 49.00000000000001, 'class_weight': {0: 1, 1: 2.1}}\n0.734825 (0.016351) with: {'C': 49.1, 'class_weight': {0: 1, 1: 2.1}}\n0.734825 (0.016351) with: {'C': 49.2, 'class_weight': {0: 1, 1: 2.1}}\n0.734825 (0.016351) with: {'C': 49.300000000000004, 'class_weight': {0: 1, 1: 2.1}}\n0.734825 (0.016351) with: {'C': 49.400000000000006, 'class_weight': {0: 1, 1: 2.1}}\n0.734825 (0.016351) with: {'C': 49.50000000000001, 'class_weight': {0: 1, 1: 2.1}}\n0.734825 (0.016351) with: {'C': 49.6, 'class_weight': {0: 1, 1: 2.1}}\n0.734825 (0.016351) with: {'C': 49.7, 'class_weight': {0: 1, 1: 2.1}}\n0.734825 (0.016351) with: {'C': 49.800000000000004, 'class_weight': {0: 1, 1: 2.1}}\n0.734825 (0.016351) with: {'C': 49.900000000000006, 'class_weight': {0: 1, 1: 2.1}}\n"
     ]
    }
   ],
   "source": [
    "# grid search class weights with logistic regression for imbalance classification\n",
    "\n",
    "# define grid\n",
    "cw_params = [{0:1, 1:2.1}]\n",
    "#cw_params = [{0:1, 1:i} for i in np.arange(0.4, 3.1, 0.1)]\n",
    "#C_params = np.arange(0.1, 50, 0.1)\n",
    "#C_params = [0.95]\n",
    "param_grid = dict(class_weight = cw_params, C = C_params)\n",
    "#param_grid = dict(class_weight = cw_params)\n",
    "# define evaluation procedure\n",
    "cv = RepeatedStratifiedKFold(n_splits=10, n_repeats=3, random_state=69)\n",
    "# define grid search\n",
    "grid = GridSearchCV(estimator=model, param_grid=param_grid, n_jobs=-1, cv=cv, scoring='f1')\n",
    "# execute the grid search\n",
    "grid_result = grid.fit(X_test, y_test)\n",
    "# report the best configuration\n",
    "print(\"Best: %f using %s\" % (grid_result.best_score_, grid_result.best_params_))\n",
    "# report all configurations\n",
    "means = grid_result.cv_results_['mean_test_score']\n",
    "stds = grid_result.cv_results_['std_test_score']\n",
    "params = grid_result.cv_results_['params']\n",
    "for mean, stdev, param in zip(means, stds, params):\n",
    "    print(\"%f (%f) with: %r\" % (mean, stdev, param))"
   ]
  },
  {
   "cell_type": "code",
   "execution_count": 36,
   "metadata": {},
   "outputs": [
    {
     "output_type": "stream",
     "name": "stdout",
     "text": [
      "f1 test : 0.7353218210361067\nf1 train : 0.7401424422074564\n"
     ]
    }
   ],
   "source": [
    "print('f1 test :',f1_score(y_test, model.predict(X_test)))\n",
    "print('f1 train :',f1_score(y_train, model.predict(X_train)))\n",
    "\n"
   ]
  },
  {
   "cell_type": "code",
   "execution_count": null,
   "metadata": {},
   "outputs": [],
   "source": []
  }
 ]
}