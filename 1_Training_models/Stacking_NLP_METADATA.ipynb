{
 "metadata": {
  "language_info": {
   "codemirror_mode": {
    "name": "ipython",
    "version": 3
   },
   "file_extension": ".py",
   "mimetype": "text/x-python",
   "name": "python",
   "nbconvert_exporter": "python",
   "pygments_lexer": "ipython3",
   "version": "3.7.9-final"
  },
  "orig_nbformat": 2,
  "kernelspec": {
   "name": "python3",
   "display_name": "Python 3",
   "language": "python"
  }
 },
 "nbformat": 4,
 "nbformat_minor": 2,
 "cells": [
  {
   "cell_type": "code",
   "execution_count": 2,
   "metadata": {},
   "outputs": [],
   "source": [
    "import pandas as pd \n",
    "import numpy as np\n",
    "from langdetect import detect\n",
    "import seaborn as sns\n",
    "import io \n",
    "from s3_credentials import *\n",
    "import boto3\n",
    "\n",
    "import seaborn as sns\n",
    "\n",
    "from sklearn.model_selection import train_test_split\n",
    "from sklearn.pipeline import Pipeline\n",
    "from sklearn.impute import SimpleImputer\n",
    "from sklearn.preprocessing import StandardScaler\n",
    "from sklearn.preprocessing import OneHotEncoder\n",
    "from sklearn.compose import ColumnTransformer\n",
    "from sklearn.linear_model import LogisticRegression\n",
    "from sklearn.naive_bayes import GaussianNB\n",
    "from sklearn.metrics import classification_report\n",
    "from sklearn.metrics import f1_score\n",
    "from sklearn.datasets import make_classification\n",
    "from sklearn.model_selection import GridSearchCV\n",
    "from sklearn.model_selection import RepeatedStratifiedKFold\n",
    "from sklearn.model_selection import cross_val_score, cross_val_predict\n",
    "from sklearn import metrics"
   ]
  },
  {
   "cell_type": "code",
   "execution_count": 3,
   "metadata": {},
   "outputs": [
    {
     "output_type": "stream",
     "name": "stdout",
     "text": [
      "/Users/admin/Jedha\n"
     ]
    }
   ],
   "source": [
    "cd '/Users/admin/Jedha/'"
   ]
  },
  {
   "cell_type": "code",
   "execution_count": 4,
   "metadata": {},
   "outputs": [],
   "source": [
    "# boto session \n",
    "#YOUR_ACCESS_KEY = \n",
    "#YOUR_SECRET_KEY = \n",
    "\n",
    "session = boto3.Session(aws_access_key_id= YOUR_ACCESS_KEY, \n",
    "                        aws_secret_access_key= YOUR_SECRET_KEY)\n",
    "\n",
    "s3 = session.resource(\"s3\")\n",
    "client = session.client(\"s3\")"
   ]
  },
  {
   "cell_type": "code",
   "execution_count": 5,
   "metadata": {},
   "outputs": [],
   "source": [
    "#Pull subdatasets\n",
    "\n",
    "# NLP pred\n",
    "obj = s3.Object('jedha-fake-reviews-project', \"datasets/predictions_svm_nlp.csv\")\n",
    "NLP_pred = pd.read_csv(io.BytesIO(obj.get()['Body'].read()), low_memory = False, index_col=0)\n",
    "\n",
    "# Meta pred\n",
    "obj = s3.Object('jedha-fake-reviews-project', \"datasets/prediction_meta_data.csv\")\n",
    "Meta_pred = pd.read_csv(io.BytesIO(obj.get()['Body'].read()), low_memory = False, index_col=0)\n",
    "\n",
    "#meta_pred_svc\n",
    "obj = s3.Object('jedha-fake-reviews-project', \"datasets/svc_predictions_meta_data.csv\")\n",
    "meta_pred_svc = pd.read_csv(io.BytesIO(obj.get()['Body'].read()), low_memory = False, index_col=0)\n",
    "\n"
   ]
  },
  {
   "cell_type": "code",
   "execution_count": 6,
   "metadata": {},
   "outputs": [],
   "source": [
    "dataset = pd.DataFrame(dict(NLP  = NLP_pred.iloc[:,1],\n",
    "                           Meta_data = Meta_pred.iloc[:,1],\n",
    "                           meta_pred_svc = meta_pred_svc.iloc[:,1],\n",
    "                           is_fake_review =  Meta_pred['is_fake_review']\n",
    "                                )\n",
    "                                )\n"
   ]
  },
  {
   "source": [
    "## Logistic Regression"
   ],
   "cell_type": "markdown",
   "metadata": {}
  },
  {
   "cell_type": "code",
   "execution_count": 33,
   "metadata": {},
   "outputs": [
    {
     "output_type": "execute_result",
     "data": {
      "text/plain": [
       "LogisticRegression(C=1, class_weight={0: 1, 1: 2.1})"
      ]
     },
     "metadata": {},
     "execution_count": 33
    }
   ],
   "source": [
    "X = dataset[['NLP', 'Meta_data', 'meta_pred_svc']]\n",
    "y = dataset['is_fake_review']\n",
    "\n",
    "\n",
    "X = X.values\n",
    "y = np.array(y)\n",
    "\n",
    "X_train, X_test, y_train, y_test = train_test_split(X, y, test_size=0.20, random_state=42, stratify = y)\n",
    "\n",
    "\n",
    "\n",
    "# Train model\n",
    "model = LogisticRegression(C=1, class_weight={0:1, 1:2.1}, dual=False, fit_intercept=True,\n",
    "                   intercept_scaling=1, l1_ratio=None, max_iter=100,\n",
    "                   multi_class='auto', n_jobs=None, penalty='l2',\n",
    "                   random_state=None, solver='lbfgs', tol=0.0001, verbose=0,\n",
    "                   warm_start=False)\n",
    "\n",
    "\n",
    "model.fit(X_train, y_train)\n",
    "\n",
    "\n",
    "\n"
   ]
  },
  {
   "cell_type": "code",
   "execution_count": null,
   "metadata": {
    "tags": []
   },
   "outputs": [],
   "source": [
    "# grid search class weights with logistic regression for imbalance classification\n",
    "\n",
    "# define grid\n",
    "#cw_params = [{0:1, 1:2.1}]\n",
    "cw_params = [{0:1, 1:i} for i in np.arange(2.5, 3.1, 0.1)]\n",
    "#C_params = np.arange(0.1, 50, 0.1)\n",
    "#C_params = [0.95]\n",
    "param_grid = dict(class_weight = cw_params, C = C_params)\n",
    "#param_grid = dict(class_weight = cw_params)\n",
    "# define evaluation procedure\n",
    "cv = RepeatedStratifiedKFold(n_splits=10, n_repeats=3, random_state=69)\n",
    "# define grid search\n",
    "grid = GridSearchCV(estimator=model, param_grid=param_grid, n_jobs=-1, cv=cv, scoring='f1')\n",
    "# execute the grid search\n",
    "grid_result = grid.fit(X_test, y_test)\n",
    "# report the best configuration\n",
    "print(\"Best: %f using %s\" % (grid_result.best_score_, grid_result.best_params_))\n",
    "# report all configurations\n",
    "means = grid_result.cv_results_['mean_test_score']\n",
    "stds = grid_result.cv_results_['std_test_score']\n",
    "params = grid_result.cv_results_['params']\n",
    "for mean, stdev, param in zip(means, stds, params):\n",
    "    print(\"%f (%f) with: %r\" % (mean, stdev, param))"
   ]
  },
  {
   "cell_type": "code",
   "execution_count": 34,
   "metadata": {},
   "outputs": [
    {
     "output_type": "stream",
     "name": "stdout",
     "text": [
      "f1 test : 0.7966666666666666\nf1 train : 0.8008929699675666\n"
     ]
    }
   ],
   "source": [
    "print('f1 test :',f1_score(y_test, model.predict(X_test)))\n",
    "print('f1 train :',f1_score(y_train, model.predict(X_train)))\n",
    "\n"
   ]
  },
  {
   "cell_type": "code",
   "execution_count": null,
   "metadata": {},
   "outputs": [],
   "source": []
  }
 ]
}