{
 "cells": [
  {
   "cell_type": "code",
   "execution_count": 1,
   "metadata": {},
   "outputs": [],
   "source": [
    "import pandas as pd \n",
    "import numpy as np\n",
    "from langdetect import detect\n",
    "import seaborn as sns\n",
    "import io "
   ]
  },
  {
   "cell_type": "code",
   "execution_count": 30,
   "metadata": {},
   "outputs": [
    {
     "data": {
      "text/plain": [
       "'/Users/admin/Jedha'"
      ]
     },
     "execution_count": 30,
     "metadata": {},
     "output_type": "execute_result"
    }
   ],
   "source": [
    "cd '/Users/admin/Jedha/'"
   ]
  },
  {
   "cell_type": "code",
   "execution_count": 65,
   "metadata": {},
   "outputs": [],
   "source": [
    "# full_dataset_reworked\n",
    "obj = s3.Object('jedha-fake-reviews-project', \"datasets/full_dataset_reworked.csv\")\n",
    "dataset = pd.read_csv(io.BytesIO(obj.get()['Body'].read()), low_memory = False, index_col=0)"
   ]
  },
  {
   "cell_type": "code",
   "execution_count": 57,
   "metadata": {},
   "outputs": [],
   "source": [
    "dataset['text_length'] = dataset['text_review'].apply(lambda x : len(x))"
   ]
  },
  {
   "cell_type": "code",
   "execution_count": 58,
   "metadata": {},
   "outputs": [],
   "source": [
    "def get_lang(x):\n",
    "\n",
    "    try:\n",
    "        lang = detect(str(x))\n",
    "    except:\n",
    "        lang = 'not_found'\n",
    "\n",
    "    return lang"
   ]
  },
  {
   "cell_type": "code",
   "execution_count": 60,
   "metadata": {},
   "outputs": [
    {
     "name": "stdout",
     "output_type": "stream",
     "text": [
      "0 ok\n",
      "1500 ok\n",
      "3000 ok\n",
      "4500 ok\n",
      "6000 ok\n",
      "7500 ok\n",
      "9000 ok\n",
      "10500 ok\n",
      "12000 ok\n",
      "13500 ok\n",
      "15000 ok\n",
      "16500 ok\n",
      "18000 ok\n",
      "19500 ok\n",
      "21000 ok\n",
      "22500 ok\n",
      "24000 ok\n",
      "25500 ok\n",
      "27000 ok\n",
      "28500 ok\n",
      "30000 ok\n",
      "31500 ok\n",
      "33000 ok\n",
      "34500 ok\n",
      "36000 ok\n",
      "37500 ok\n",
      "39000 ok\n",
      "40500 ok\n",
      "42000 ok\n",
      "43500 ok\n",
      "45000 ok\n",
      "46500 ok\n",
      "48000 ok\n",
      "49500 ok\n",
      "51000 ok\n",
      "52500 ok\n",
      "54000 ok\n",
      "55500 ok\n",
      "57000 ok\n",
      "58500 ok\n",
      "60000 ok\n",
      "61500 ok\n",
      "63000 ok\n",
      "64500 ok\n",
      "66000 ok\n",
      "67500 ok\n",
      "69000 ok\n",
      "70500 ok\n",
      "72000 ok\n",
      "73500 ok\n",
      "75000 ok\n",
      "76500 ok\n",
      "78000 ok\n",
      "79500 ok\n",
      "81000 ok\n",
      "82500 ok\n",
      "84000 ok\n",
      "85500 ok\n",
      "87000 ok\n",
      "88500 ok\n",
      "90000 ok\n"
     ]
    }
   ],
   "source": [
    "lang = []\n",
    "for i in range(len(dataset)):\n",
    "    item = dataset['text_review'].iloc[i]\n",
    "    l = get_lang(item)\n",
    "    lang.append(l)\n",
    "    if i % 1500 == 0:\n",
    "        print(i, 'ok')"
   ]
  },
  {
   "cell_type": "code",
   "execution_count": 31,
   "metadata": {},
   "outputs": [],
   "source": [
    "dataset['id'] = dataset['username'] + str(dataset['user_friends_count']) + str(dataset['user_location']) + str(dataset['user_reviews_count']) + str(dataset['user_total_image_posted'])"
   ]
  },
  {
   "cell_type": "code",
   "execution_count": 19,
   "metadata": {},
   "outputs": [
    {
     "name": "stdout",
     "output_type": "stream",
     "text": [
      "real_review | mean_user_review_count:  95.22160705003445\n",
      "fake_review | mean_user_review_count:  19.7975533181769\n",
      "-----------------------------------------------------------------------------------------\n",
      "real_review | mean_user_friend_count:  43.63132381562564\n",
      "fake_review | mean_user_friend__count:  240.25062249648155\n",
      "-----------------------------------------------------------------------------------------\n",
      "real_review | mean_user_image_posted_count:  161.56677103103127\n",
      "fake_review | mean_user_image_posted_count:  58.29793340987371\n"
     ]
    }
   ],
   "source": [
    "print('real_review | mean_user_review_count: ', dataset.loc[dataset['is_real_review']==1]['user_reviews_count'].mean())\n",
    "print('fake_review | mean_user_review_count: ', dataset.loc[dataset['is_real_review']==0]['user_reviews_count'].mean())\n",
    "print('-----------------------------------------------------------------------------------------')\n",
    "print('real_review | mean_user_friend_count: ', dataset.loc[dataset['is_real_review']==1]['user_friends_count'].mean())\n",
    "print('fake_review | mean_user_friend__count: ', dataset.loc[dataset['is_real_review']==0]['user_friends_count'].mean())\n",
    "print('-----------------------------------------------------------------------------------------')\n",
    "print('real_review | mean_user_image_posted_count: ', dataset.loc[dataset['is_real_review']==1]['user_total_image_posted'].mean())\n",
    "print('fake_review | mean_user_image_posted_count: ', dataset.loc[dataset['is_real_review']==0]['user_total_image_posted'].mean())\n"
   ]
  },
  {
   "cell_type": "code",
   "execution_count": null,
   "metadata": {},
   "outputs": [],
   "source": []
  },
  {
   "cell_type": "code",
   "execution_count": null,
   "metadata": {},
   "outputs": [],
   "source": []
  }
 ],
 "metadata": {
  "kernelspec": {
   "display_name": "Python 3",
   "language": "python",
   "name": "python3"
  },
  "language_info": {
   "codemirror_mode": {
    "name": "ipython",
    "version": 3
   },
   "file_extension": ".py",
   "mimetype": "text/x-python",
   "name": "python",
   "nbconvert_exporter": "python",
   "pygments_lexer": "ipython3",
   "version": "3.8.3"
  }
 },
 "nbformat": 4,
 "nbformat_minor": 2
}
