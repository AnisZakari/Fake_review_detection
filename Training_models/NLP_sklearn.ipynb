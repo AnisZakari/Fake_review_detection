{
 "metadata": {
  "language_info": {
   "codemirror_mode": {
    "name": "ipython",
    "version": 3
   },
   "file_extension": ".py",
   "mimetype": "text/x-python",
   "name": "python",
   "nbconvert_exporter": "python",
   "pygments_lexer": "ipython3",
   "version": "3.7.9-final"
  },
  "orig_nbformat": 2,
  "kernelspec": {
   "name": "python3",
   "display_name": "Python 3",
   "language": "python"
  }
 },
 "nbformat": 4,
 "nbformat_minor": 2,
 "cells": [
  {
   "cell_type": "code",
   "execution_count": 2,
   "metadata": {},
   "outputs": [],
   "source": [
    "import pandas as pd \n",
    "import numpy as np\n",
    "from langdetect import detect\n",
    "import seaborn as sns"
   ]
  },
  {
   "cell_type": "code",
   "execution_count": 30,
   "metadata": {},
   "outputs": [
    {
     "output_type": "execute_result",
     "data": {
      "text/plain": [
       "'/Users/admin/Jedha'"
      ]
     },
     "metadata": {},
     "execution_count": 30
    }
   ],
   "source": [
    "cd '/Users/admin/Jedha/'"
   ]
  },
  {
   "cell_type": "code",
   "execution_count": 38,
   "metadata": {},
   "outputs": [],
   "source": [
    "from s3_credentials import *"
   ]
  },
  {
   "cell_type": "code",
   "execution_count": 40,
   "metadata": {},
   "outputs": [],
   "source": [
    "import boto3\n",
    "session = boto3.Session(aws_access_key_id= YOUR_ACCESS_KEY, \n",
    "                        aws_secret_access_key= YOUR_SECRET_KEY)\n",
    "\n",
    "s3 = session.resource(\"s3\")\n",
    "\n",
    "#for bucket in s3.buckets.all():\n",
    "#        print(bucket.name)"
   ]
  },
  {
   "cell_type": "code",
   "execution_count": null,
   "metadata": {},
   "outputs": [],
   "source": [
    "# real\n",
    "obj = s3.Object('jedha-fake-reviews-project', \"datasets/real_reviews_raw.csv\")\n",
    "real = pd.read_csv(io.BytesIO(obj.get()['Body'].read()), low_memory = False, index_col=0)\n",
    "\n",
    "# fake\n",
    "obj = s3.Object('jedha-fake-reviews-project', \"datasets/fake_reviews_raw.csv\")\n",
    "fake = pd.read_csv(io.BytesIO(obj.get()['Body'].read()), low_memory = False, index_col=0)\n",
    "\n",
    "\n"
   ]
  },
  {
   "cell_type": "code",
   "execution_count": null,
   "metadata": {},
   "outputs": [],
   "source": [
    "columns_list_ordered = real.columns.values.tolist()\n",
    "columns_list_ordered.append('url_not_recommended')\n",
    "\n",
    "pivot_table = real.loc[:, ['url','restaurant_average_rating','restaurant_reviews_count','restaurant_expensiveness','restaurant_name']].drop_duplicates('url')\n",
    "\n",
    "fake_merged = (pd.merge(fake, pivot_table, left_on='url', right_on = 'url', how='left'))\n",
    "fake_dataset_reworked = fake_merged.loc[:, columns_list_ordered]\n",
    "\n",
    "full_dataset = pd.concat([real, fake_dataset_reworked])\n",
    "full_dataset = full_dataset.reset_index(drop = True)\n",
    "full_dataset = full_dataset.drop_duplicates()\n",
    "full_dataset['url_not_recommended'] = full_dataset['url'].apply(lambda url: url.replace(\"biz/\", \"not_recommended_reviews/\"))"
   ]
  },
  {
   "cell_type": "code",
   "execution_count": 8,
   "metadata": {},
   "outputs": [
    {
     "output_type": "stream",
     "name": "stdout",
     "text": [
      "0 ok\n",
      "500 ok\n",
      "1000 ok\n",
      "1500 ok\n",
      "2000 ok\n",
      "2500 ok\n",
      "3000 ok\n",
      "3500 ok\n",
      "4000 ok\n",
      "4500 ok\n",
      "5000 ok\n",
      "5500 ok\n",
      "6000 ok\n",
      "6500 ok\n",
      "7000 ok\n",
      "7500 ok\n",
      "8000 ok\n",
      "8500 ok\n",
      "9000 ok\n",
      "9500 ok\n",
      "10000 ok\n",
      "10500 ok\n",
      "11000 ok\n",
      "11500 ok\n",
      "12000 ok\n",
      "12500 ok\n",
      "13000 ok\n",
      "13500 ok\n",
      "14000 ok\n",
      "14500 ok\n",
      "15000 ok\n",
      "15500 ok\n",
      "16000 ok\n",
      "16500 ok\n",
      "17000 ok\n",
      "17500 ok\n",
      "18000 ok\n",
      "18500 ok\n",
      "19000 ok\n",
      "19500 ok\n",
      "20000 ok\n",
      "20500 ok\n",
      "21000 ok\n",
      "21500 ok\n",
      "22000 ok\n",
      "22500 ok\n",
      "23000 ok\n",
      "23500 ok\n",
      "24000 ok\n",
      "24500 ok\n",
      "25000 ok\n",
      "25500 ok\n",
      "26000 ok\n",
      "26500 ok\n",
      "27000 ok\n",
      "27500 ok\n",
      "28000 ok\n",
      "28500 ok\n",
      "29000 ok\n",
      "29500 ok\n",
      "30000 ok\n",
      "30500 ok\n",
      "31000 ok\n",
      "31500 ok\n",
      "32000 ok\n",
      "32500 ok\n",
      "33000 ok\n",
      "33500 ok\n",
      "34000 ok\n",
      "34500 ok\n",
      "35000 ok\n",
      "35500 ok\n",
      "36000 ok\n",
      "36500 ok\n",
      "37000 ok\n",
      "37500 ok\n",
      "38000 ok\n",
      "38500 ok\n",
      "39000 ok\n",
      "39500 ok\n",
      "40000 ok\n",
      "40500 ok\n",
      "41000 ok\n",
      "41500 ok\n",
      "42000 ok\n",
      "42500 ok\n",
      "43000 ok\n",
      "43500 ok\n",
      "44000 ok\n",
      "44500 ok\n",
      "45000 ok\n",
      "45500 ok\n",
      "46000 ok\n",
      "46500 ok\n",
      "47000 ok\n",
      "47500 ok\n",
      "48000 ok\n",
      "48500 ok\n",
      "49000 ok\n",
      "49500 ok\n",
      "50000 ok\n",
      "50500 ok\n",
      "51000 ok\n",
      "51500 ok\n",
      "52000 ok\n",
      "52500 ok\n",
      "53000 ok\n",
      "53500 ok\n",
      "54000 ok\n",
      "54500 ok\n",
      "55000 ok\n",
      "55500 ok\n",
      "56000 ok\n",
      "56500 ok\n",
      "57000 ok\n",
      "57500 ok\n",
      "58000 ok\n",
      "58500 ok\n",
      "59000 ok\n",
      "59500 ok\n",
      "60000 ok\n",
      "60500 ok\n",
      "61000 ok\n",
      "61500 ok\n",
      "62000 ok\n",
      "62500 ok\n",
      "63000 ok\n",
      "63500 ok\n",
      "64000 ok\n",
      "64500 ok\n",
      "65000 ok\n",
      "65500 ok\n",
      "66000 ok\n",
      "66500 ok\n",
      "67000 ok\n",
      "67500 ok\n",
      "68000 ok\n",
      "68500 ok\n",
      "69000 ok\n",
      "69500 ok\n",
      "70000 ok\n",
      "70500 ok\n",
      "71000 ok\n",
      "71500 ok\n",
      "72000 ok\n",
      "72500 ok\n",
      "73000 ok\n",
      "73500 ok\n",
      "74000 ok\n",
      "74500 ok\n",
      "75000 ok\n",
      "75500 ok\n",
      "76000 ok\n",
      "76500 ok\n",
      "77000 ok\n",
      "77500 ok\n",
      "78000 ok\n",
      "78500 ok\n",
      "79000 ok\n",
      "79500 ok\n",
      "80000 ok\n",
      "80500 ok\n",
      "81000 ok\n",
      "81500 ok\n",
      "82000 ok\n",
      "82500 ok\n",
      "83000 ok\n",
      "83500 ok\n",
      "84000 ok\n",
      "84500 ok\n",
      "85000 ok\n",
      "85500 ok\n",
      "86000 ok\n",
      "86500 ok\n",
      "87000 ok\n",
      "87500 ok\n",
      "88000 ok\n",
      "88500 ok\n",
      "89000 ok\n",
      "89500 ok\n",
      "90000 ok\n",
      "90500 ok\n",
      "91000 ok\n",
      "91500 ok\n"
     ]
    }
   ],
   "source": [
    "lang = []\n",
    "for i in range(len(dataset)):\n",
    "    item = dataset['review_lite'].iloc[i]\n",
    "    l = get_lang(item)\n",
    "    lang.append(l)\n",
    "    if i % 500 == 0:\n",
    "        print(i, 'ok')"
   ]
  },
  {
   "cell_type": "code",
   "execution_count": 7,
   "metadata": {},
   "outputs": [],
   "source": [
    "\n",
    "dataset['lang'] = dataset['text_reviews'].apply(lambda x: detect(x))"
   ]
  },
  {
   "cell_type": "code",
   "execution_count": 76,
   "metadata": {},
   "outputs": [
    {
     "output_type": "execute_result",
     "data": {
      "text/plain": [
       "'https://www.yelp.fr/not_recommended_reviews/le-buisson-d-argent-paris-3'"
      ]
     },
     "metadata": {},
     "execution_count": 76
    }
   ],
   "source": [
    "dataset['text_review']"
   ]
  },
  {
   "cell_type": "code",
   "execution_count": 3,
   "metadata": {},
   "outputs": [],
   "source": [
    "def get_lang(x):\n",
    "\n",
    "    try:\n",
    "        lang = detect(str(x))\n",
    "    except:\n",
    "        lang = 'not_found'\n",
    "\n",
    "    return lang"
   ]
  },
  {
   "cell_type": "code",
   "execution_count": 4,
   "metadata": {},
   "outputs": [],
   "source": [
    "path_to_dataset = '/Users/admin/Jedha/Fake_reviews_detection/Scraping/Yelp_Paris_Scraping_reviews/dataset/full_dataset_reworked.csv'"
   ]
  },
  {
   "cell_type": "code",
   "execution_count": 5,
   "metadata": {},
   "outputs": [],
   "source": [
    "dataset = pd.read_csv(path_to_dataset, index_col = 0)"
   ]
  },
  {
   "cell_type": "code",
   "execution_count": 6,
   "metadata": {},
   "outputs": [],
   "source": [
    "dataset['text_length'] = dataset['text_review'].apply(lambda x : len(x))"
   ]
  },
  {
   "cell_type": "code",
   "execution_count": 31,
   "metadata": {},
   "outputs": [],
   "source": [
    "dataset['id'] = dataset['username'] + str(dataset['user_friends_count']) + str(dataset['user_location']) + str(dataset['user_reviews_count']) + str(dataset['user_total_image_posted'])"
   ]
  },
  {
   "cell_type": "code",
   "execution_count": 19,
   "metadata": {},
   "outputs": [
    {
     "output_type": "stream",
     "name": "stdout",
     "text": [
      "real_review | mean_user_review_count:  95.22160705003445\nfake_review | mean_user_review_count:  19.7975533181769\n-----------------------------------------------------------------------------------------\nreal_review | mean_user_friend_count:  43.63132381562564\nfake_review | mean_user_friend__count:  240.25062249648155\n-----------------------------------------------------------------------------------------\nreal_review | mean_user_image_posted_count:  161.56677103103127\nfake_review | mean_user_image_posted_count:  58.29793340987371\n"
     ]
    }
   ],
   "source": [
    "print('real_review | mean_user_review_count: ', dataset.loc[dataset['is_real_review']==1]['user_reviews_count'].mean())\n",
    "print('fake_review | mean_user_review_count: ', dataset.loc[dataset['is_real_review']==0]['user_reviews_count'].mean())\n",
    "print('-----------------------------------------------------------------------------------------')\n",
    "print('real_review | mean_user_friend_count: ', dataset.loc[dataset['is_real_review']==1]['user_friends_count'].mean())\n",
    "print('fake_review | mean_user_friend__count: ', dataset.loc[dataset['is_real_review']==0]['user_friends_count'].mean())\n",
    "print('-----------------------------------------------------------------------------------------')\n",
    "print('real_review | mean_user_image_posted_count: ', dataset.loc[dataset['is_real_review']==1]['user_total_image_posted'].mean())\n",
    "print('fake_review | mean_user_image_posted_count: ', dataset.loc[dataset['is_real_review']==0]['user_total_image_posted'].mean())\n"
   ]
  },
  {
   "cell_type": "code",
   "execution_count": 21,
   "metadata": {},
   "outputs": [
    {
     "output_type": "execute_result",
     "data": {
      "text/plain": [
       "19.7975533181769"
      ]
     },
     "metadata": {},
     "execution_count": 21
    }
   ],
   "source": []
  },
  {
   "cell_type": "code",
   "execution_count": null,
   "metadata": {},
   "outputs": [],
   "source": []
  },
  {
   "cell_type": "code",
   "execution_count": null,
   "metadata": {},
   "outputs": [],
   "source": []
  }
 ]
}