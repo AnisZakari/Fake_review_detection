{
 "cells": [
  {
   "cell_type": "code",
   "execution_count": 3,
   "metadata": {},
   "outputs": [],
   "source": [
    "import pandas as pd \n",
    "import numpy as np\n",
    "from langdetect import detect\n",
    "import seaborn as sns\n",
    "import io \n",
    "#from s3_credentials import *"
   ]
  },
  {
   "cell_type": "code",
   "execution_count": 5,
   "metadata": {},
   "outputs": [],
   "source": [
    "import boto3"
   ]
  },
  {
   "cell_type": "code",
   "execution_count": 11,
   "metadata": {},
   "outputs": [],
   "source": [
    "# boto session \n",
    "YOUR_ACCESS_KEY = \n",
    "YOUR_SECRET_KEY = \n",
    "\n",
    "session = boto3.Session(aws_access_key_id= YOUR_ACCESS_KEY, \n",
    "                        aws_secret_access_key= YOUR_SECRET_KEY)\n",
    "\n",
    "s3 = session.resource(\"s3\")\n",
    "client = session.client(\"s3\")"
   ]
  },
  {
   "cell_type": "markdown",
   "metadata": {},
   "source": [
    "### Pull datasets"
   ]
  },
  {
   "cell_type": "code",
   "execution_count": 52,
   "metadata": {},
   "outputs": [],
   "source": [
    "#Pull subdatasets\n",
    "\n",
    "# real\n",
    "obj = s3.Object('jedha-fake-reviews-project', \"datasets/real_reviews_raw.csv\")\n",
    "real = pd.read_csv(io.BytesIO(obj.get()['Body'].read()), low_memory = False, index_col=0)\n",
    "\n",
    "# fake\n",
    "obj = s3.Object('jedha-fake-reviews-project', \"datasets/fake_reviews_raw.csv\")\n",
    "fake = pd.read_csv(io.BytesIO(obj.get()['Body'].read()), low_memory = False, index_col=0)\n"
   ]
  },
  {
   "cell_type": "markdown",
   "metadata": {},
   "source": [
    "### Merge both datasets"
   ]
  },
  {
   "cell_type": "code",
   "execution_count": 56,
   "metadata": {
    "scrolled": true
   },
   "outputs": [],
   "source": [
    "# find order columned list\n",
    "columns_list_ordered = real.columns.values.tolist()\n",
    "columns_list_ordered.append('url_not_recommended')\n",
    "\n",
    "# create mapping table \n",
    "pivot_table = real.loc[:, ['url','restaurant_average_rating','restaurant_reviews_count','restaurant_expensiveness','restaurant_name']].drop_duplicates('url')\n",
    "\n",
    "# merge fake with mapping table\n",
    "fake_merged = pd.merge(fake, pivot_table, left_on='url', right_on = 'url', how='left')\n",
    "\n",
    "fake_dataset_reworked = fake_merged.loc[:, columns_list_ordered]\n",
    "# second method --> fake_dataset_reworked = fake_merged.reindex(columns = columns_list_ordered) \n",
    "# this method requires to add suffixes=(\"_Drop\", None) to previosu merge\n",
    "\n",
    "\n",
    "# concat both and put into full_dataset\n",
    "full_dataset = pd.concat([real, fake_dataset_reworked])\n",
    "full_dataset.loc[(full_dataset['restaurant_expensiveness'] == '14' ) | (full_dataset['restaurant_expensiveness'] == '10' ), 'restaurant_expensiveness'] = 'N/C'\n",
    "full_dataset = full_dataset.drop_duplicates()\n",
    "full_dataset = full_dataset.reset_index(drop = True)\n",
    "full_dataset['url_not_recommended'] = full_dataset['url'].apply(lambda url: url.replace(\"biz/\", \"not_recommended_reviews/\"))"
   ]
  },
  {
   "cell_type": "markdown",
   "metadata": {},
   "source": [
    "### (Optional) Function to return language for each "
   ]
  },
  {
   "cell_type": "code",
   "execution_count": null,
   "metadata": {},
   "outputs": [],
   "source": [
    "from langdetect import detect\n",
    "# def function \n",
    "def get_lang(x):\n",
    "\n",
    "    try:\n",
    "        lang = detect(str(x))\n",
    "    except:\n",
    "        lang = 'not_found'\n",
    "\n",
    "    return lang"
   ]
  },
  {
   "cell_type": "code",
   "execution_count": null,
   "metadata": {},
   "outputs": [],
   "source": [
    "# apply to df \n",
    "full_dataset['language'] = full_dataset[\"text_review\"].apply(lambda x : get_lang(x))"
   ]
  },
  {
   "cell_type": "markdown",
   "metadata": {},
   "source": [
    "### Push to bucket"
   ]
  },
  {
   "cell_type": "code",
   "execution_count": null,
   "metadata": {},
   "outputs": [],
   "source": [
    "# upload new dataset \n",
    "# set path and bucket name\n",
    "PATH = \"datasets/full_dataset.csv\"\n",
    "bucket = s3.Bucket(name = \"jedha-fake-reviews-project\")\n",
    "# export dataset as csv\n",
    "data = full_dataset.to_csv()\n",
    "put_object = bucket.put_object(ACL='private', Key= PATH, Body=data)\n",
    "#check \n",
    "for obj in bucket.objects.all():\n",
    "    print(obj.key)"
   ]
  }
 ],
 "metadata": {
  "kernelspec": {
   "display_name": "Python 3",
   "language": "python",
   "name": "python3"
  },
  "language_info": {
   "codemirror_mode": {
    "name": "ipython",
    "version": 3
   },
   "file_extension": ".py",
   "mimetype": "text/x-python",
   "name": "python",
   "nbconvert_exporter": "python",
   "pygments_lexer": "ipython3",
   "version": "3.8.3"
  }
 },
 "nbformat": 4,
 "nbformat_minor": 2
}