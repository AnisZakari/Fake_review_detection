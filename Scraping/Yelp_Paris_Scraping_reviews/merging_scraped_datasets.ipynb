{
 "metadata": {
  "language_info": {
   "codemirror_mode": {
    "name": "ipython",
    "version": 3
   },
   "file_extension": ".py",
   "mimetype": "text/x-python",
   "name": "python",
   "nbconvert_exporter": "python",
   "pygments_lexer": "ipython3",
   "version": "3.7.9-final"
  },
  "orig_nbformat": 2,
  "kernelspec": {
   "name": "python3",
   "display_name": "Python 3",
   "language": "python"
  }
 },
 "nbformat": 4,
 "nbformat_minor": 2,
 "cells": [
  {
   "cell_type": "code",
   "execution_count": 8,
   "metadata": {},
   "outputs": [
    {
     "output_type": "stream",
     "name": "stdout",
     "text": [
      "/Users/admin/Jedha\n"
     ]
    }
   ],
   "source": [
    "cd '/Users/admin/Jedha/'"
   ]
  },
  {
   "cell_type": "code",
   "execution_count": 10,
   "metadata": {},
   "outputs": [],
   "source": [
    "import pandas as pd \n",
    "import numpy as np\n",
    "from langdetect import detect\n",
    "import seaborn as sns\n",
    "import io \n",
    "from s3_credentials import *"
   ]
  },
  {
   "cell_type": "code",
   "execution_count": null,
   "metadata": {},
   "outputs": [],
   "source": []
  },
  {
   "cell_type": "code",
   "execution_count": null,
   "metadata": {},
   "outputs": [],
   "source": [
    "#Pull subdatasets\n",
    "\n",
    "# real\n",
    "obj = s3.Object('jedha-fake-reviews-project', \"datasets/real_reviews_raw.csv\")\n",
    "real = pd.read_csv(io.BytesIO(obj.get()['Body'].read()), low_memory = False, index_col=0)\n",
    "\n",
    "# fake\n",
    "obj = s3.Object('jedha-fake-reviews-project', \"datasets/fake_reviews_raw.csv\")\n",
    "fake = pd.read_csv(io.BytesIO(obj.get()['Body'].read()), low_memory = False, index_col=0)\n"
   ]
  },
  {
   "cell_type": "code",
   "execution_count": null,
   "metadata": {},
   "outputs": [],
   "source": [
    "columns_list_ordered = real.columns.values.tolist()\n",
    "columns_list_ordered.append('url_not_recommended')\n",
    "\n",
    "pivot_table = real.loc[:, ['url','restaurant_average_rating','restaurant_reviews_count','restaurant_expensiveness','restaurant_name']].drop_duplicates('url')\n",
    "\n",
    "fake_merged = (pd.merge(fake, pivot_table, left_on='url', right_on = 'url', how='left'))\n",
    "fake_dataset_reworked = fake_merged.loc[:, columns_list_ordered]\n",
    "\n",
    "dataset = pd.concat([real, fake_dataset_reworked])\n",
    "dataset = full_dataset.reset_index(drop = True)\n",
    "dataset = full_dataset.drop_duplicates()\n",
    "dataset['url_not_recommended'] = full_dataset['url'].apply(lambda url: url.replace(\"biz/\", \"not_recommended_reviews/\"))"
   ]
  },
  {
   "cell_type": "code",
   "execution_count": null,
   "metadata": {},
   "outputs": [],
   "source": [
    "# upload new dataset \n",
    "# set path and bucket name\n",
    "PATH = \"datasets/full_dataset.csv\"\n",
    "bucket = s3.Bucket(name = \"jedha-fake-reviews-project\")\n",
    "# export dataset as csv\n",
    "data = full_dataset.to_csv()\n",
    "put_object = bucket.put_object(ACL='private', Key= PATH, Body=data)\n",
    "#check \n",
    "for obj in bucket.objects.all():\n",
    "    print(obj.key)"
   ]
  }
 ]
}