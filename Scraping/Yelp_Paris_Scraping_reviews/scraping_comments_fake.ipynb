{
 "cells": [
  {
   "cell_type": "code",
   "execution_count": 276,
   "metadata": {},
   "outputs": [],
   "source": [
    "from time import sleep\n",
    "import pandas as pandas\n",
    "from selenium.webdriver.common.keys import Keys\n",
    "from selenium import webdriver\n",
    "from selenium.common.exceptions import TimeoutException\n",
    "from selenium.webdriver.support.ui import WebDriverWait \n",
    "import re\n",
    "import pandas as pd\n",
    "\n"
   ]
  },
  {
   "cell_type": "markdown",
   "metadata": {},
   "source": [
    "## Launch Scraper"
   ]
  },
  {
   "cell_type": "code",
   "execution_count": 277,
   "metadata": {},
   "outputs": [],
   "source": [
    "# keep original URL to add to df later. \n",
    "url = 'https://www.yelp.fr/biz/le-dépanneur-pigalle-paris-3'\n",
    "url_not_recommended = url.replace(\"biz\", \"not_recommended_reviews\")"
   ]
  },
  {
   "cell_type": "code",
   "execution_count": 279,
   "metadata": {},
   "outputs": [],
   "source": [
    "driver = webdriver.Chrome('/Users/personal/Desktop/chromedriver')\n",
    "driver.get(url_not_recommended)\n",
    "sleep(10)\n",
    "\n",
    "#comment_blocs = driver.find_elements_by_css_selector(\".comment__373c0__1M-px\")\n",
    "bad_comment_blocks = driver.find_elements_by_css_selector(\".review.review--with-sidebar\")"
   ]
  },
  {
   "cell_type": "markdown",
   "metadata": {},
   "source": [
    "## Test all paths"
   ]
  },
  {
   "cell_type": "code",
   "execution_count": 316,
   "metadata": {},
   "outputs": [
    {
     "data": {
      "text/plain": [
       "'1.0'"
      ]
     },
     "execution_count": 316,
     "metadata": {},
     "output_type": "execute_result"
    }
   ],
   "source": [
    "#rating test\n",
    "bad_comment_blocks[i].find_elements_by_css_selector(\".i-stars\")[0].get_attribute(\"title\").split()[0]"
   ]
  },
  {
   "cell_type": "code",
   "execution_count": 286,
   "metadata": {},
   "outputs": [
    {
     "data": {
      "text/plain": [
       "'1.0'"
      ]
     },
     "execution_count": 286,
     "metadata": {},
     "output_type": "execute_result"
    }
   ],
   "source": [
    "#title test\n",
    "bad_comment_blocks[0].find_elements_by_css_selector(\".i-stars\")[0].get_attribute(\"title\").split()[0]"
   ]
  },
  {
   "cell_type": "code",
   "execution_count": 170,
   "metadata": {},
   "outputs": [
    {
     "data": {
      "text/plain": [
       "\"L'endroit a tout pour plaire mais le service est exécrable! A éviter à moins que vous ne vouliez vous faire virer par le videur parce que vous êtes dans le passage... Cela m'est arrivé deux fois.\""
      ]
     },
     "execution_count": 170,
     "metadata": {},
     "output_type": "execute_result"
    }
   ],
   "source": [
    "# content test\n",
    "bad_comment_blocks[0].find_element_by_tag_name(\"p\").text"
   ]
  },
  {
   "cell_type": "code",
   "execution_count": 176,
   "metadata": {},
   "outputs": [
    {
     "data": {
      "text/plain": [
       "'Coline M.'"
      ]
     },
     "execution_count": 176,
     "metadata": {},
     "output_type": "execute_result"
    }
   ],
   "source": [
    "# user_name test\n",
    "bad_comment_blocks[0].find_elements_by_css_selector(\".user-display-name\")[0].text"
   ]
  },
  {
   "cell_type": "code",
   "execution_count": 177,
   "metadata": {},
   "outputs": [
    {
     "data": {
      "text/plain": [
       "'06/02/2016'"
      ]
     },
     "execution_count": 177,
     "metadata": {},
     "output_type": "execute_result"
    }
   ],
   "source": [
    "#date\n",
    "bad_comment_blocks[0].find_elements_by_css_selector(\".rating-qualifier\")[0].text"
   ]
  },
  {
   "cell_type": "code",
   "execution_count": 181,
   "metadata": {},
   "outputs": [
    {
     "data": {
      "text/plain": [
       "'Paris'"
      ]
     },
     "execution_count": 181,
     "metadata": {},
     "output_type": "execute_result"
    }
   ],
   "source": [
    "#location\n",
    "bad_comment_blocks[0].find_elements_by_css_selector(\".user-location\")[0].text\n"
   ]
  },
  {
   "cell_type": "code",
   "execution_count": 290,
   "metadata": {},
   "outputs": [
    {
     "data": {
      "text/plain": [
       "'1'"
      ]
     },
     "execution_count": 290,
     "metadata": {},
     "output_type": "execute_result"
    }
   ],
   "source": [
    "#review_count\n",
    "bad_comment_blocks[0].find_elements_by_css_selector(\".review-count\")[0].text.split()[0]"
   ]
  },
  {
   "cell_type": "code",
   "execution_count": 292,
   "metadata": {},
   "outputs": [
    {
     "data": {
      "text/plain": [
       "'0'"
      ]
     },
     "execution_count": 292,
     "metadata": {},
     "output_type": "execute_result"
    }
   ],
   "source": [
    "#friend_count\n",
    "bad_comment_blocks[0].find_elements_by_css_selector(\".friend-count\")[0].text.split()[0]"
   ]
  },
  {
   "cell_type": "markdown",
   "metadata": {},
   "source": [
    "## Create DF"
   ]
  },
  {
   "cell_type": "code",
   "execution_count": 317,
   "metadata": {
    "scrolled": true
   },
   "outputs": [],
   "source": [
    "# put all elements into lists\n",
    "comments = []\n",
    "username = []\n",
    "date = []\n",
    "location = []\n",
    "review_count = []\n",
    "friend_count = []\n",
    "rating = []\n",
    "for i in range(0, (len(bad_comment_blocks))):\n",
    "    comments.append(bad_comment_blocks[i].find_element_by_tag_name(\"p\").text)\n",
    "    \n",
    "    rating.append(bad_comment_blocks[i].find_elements_by_css_selector(\".i-stars\")[0].get_attribute(\"title\").split()[0])\n",
    "    \n",
    "    username.append(bad_comment_blocks[i].find_elements_by_css_selector(\".user-display-name\")[0].text)\n",
    "    \n",
    "    review_count.append(bad_comment_blocks[0].find_elements_by_css_selector(\".review-count\")[0].text.split()[0])\n",
    "    \n",
    "    friend_count.append(bad_comment_blocks[0].find_elements_by_css_selector(\".friend-count\")[0].text.split()[0])\n",
    "    \n",
    "    location.append(bad_comment_blocks[0].find_elements_by_css_selector(\".user-location\")[0].text)\n",
    "    \n",
    "    date.append(bad_comment_blocks[0].find_elements_by_css_selector(\".rating-qualifier\")[0].text)\n",
    "\n",
    "# make dict of list\n",
    "\n",
    "d = {\"Comments\":comments, \"Rating\":rating, \"Date\": date, \"Location\": location, \"Review_count\" : review_count, \"Friend_count\" : friend_count, \"Rating\" : rating}\n",
    "    "
   ]
  },
  {
   "cell_type": "code",
   "execution_count": 324,
   "metadata": {},
   "outputs": [],
   "source": [
    "# make df\n",
    "data = pd.DataFrame(d)"
   ]
  },
  {
   "cell_type": "code",
   "execution_count": 325,
   "metadata": {},
   "outputs": [
    {
     "data": {
      "text/html": [
       "<div>\n",
       "<style scoped>\n",
       "    .dataframe tbody tr th:only-of-type {\n",
       "        vertical-align: middle;\n",
       "    }\n",
       "\n",
       "    .dataframe tbody tr th {\n",
       "        vertical-align: top;\n",
       "    }\n",
       "\n",
       "    .dataframe thead th {\n",
       "        text-align: right;\n",
       "    }\n",
       "</style>\n",
       "<table border=\"1\" class=\"dataframe\">\n",
       "  <thead>\n",
       "    <tr style=\"text-align: right;\">\n",
       "      <th></th>\n",
       "      <th>Comments</th>\n",
       "      <th>Rating</th>\n",
       "      <th>Date</th>\n",
       "      <th>Location</th>\n",
       "      <th>Review_count</th>\n",
       "      <th>Friend_count</th>\n",
       "    </tr>\n",
       "  </thead>\n",
       "  <tbody>\n",
       "    <tr>\n",
       "      <th>0</th>\n",
       "      <td>L'endroit a tout pour plaire mais le service e...</td>\n",
       "      <td>1.0</td>\n",
       "      <td>06/02/2016</td>\n",
       "      <td>Paris</td>\n",
       "      <td>1</td>\n",
       "      <td>0</td>\n",
       "    </tr>\n",
       "    <tr>\n",
       "      <th>1</th>\n",
       "      <td>Nous nous sommes présenté a 5 pour déjeuner......</td>\n",
       "      <td>1.0</td>\n",
       "      <td>06/02/2016</td>\n",
       "      <td>Paris</td>\n",
       "      <td>1</td>\n",
       "      <td>0</td>\n",
       "    </tr>\n",
       "    <tr>\n",
       "      <th>2</th>\n",
       "      <td>Pire serveuse de paris. La blonde musclée qui ...</td>\n",
       "      <td>1.0</td>\n",
       "      <td>06/02/2016</td>\n",
       "      <td>Paris</td>\n",
       "      <td>1</td>\n",
       "      <td>0</td>\n",
       "    </tr>\n",
       "    <tr>\n",
       "      <th>3</th>\n",
       "      <td>Pas donné, y a mieux et moins cher et pour ce ...</td>\n",
       "      <td>1.0</td>\n",
       "      <td>06/02/2016</td>\n",
       "      <td>Paris</td>\n",
       "      <td>1</td>\n",
       "      <td>0</td>\n",
       "    </tr>\n",
       "    <tr>\n",
       "      <th>4</th>\n",
       "      <td>Cliente depuis l'ouverture, je n'étais pas ret...</td>\n",
       "      <td>1.0</td>\n",
       "      <td>06/02/2016</td>\n",
       "      <td>Paris</td>\n",
       "      <td>1</td>\n",
       "      <td>0</td>\n",
       "    </tr>\n",
       "    <tr>\n",
       "      <th>5</th>\n",
       "      <td>Un restaurant ou vous devez vous taire, priori...</td>\n",
       "      <td>1.0</td>\n",
       "      <td>06/02/2016</td>\n",
       "      <td>Paris</td>\n",
       "      <td>1</td>\n",
       "      <td>0</td>\n",
       "    </tr>\n",
       "    <tr>\n",
       "      <th>6</th>\n",
       "      <td>J'ai été plus que dessus puisqu'au bout de pre...</td>\n",
       "      <td>1.0</td>\n",
       "      <td>06/02/2016</td>\n",
       "      <td>Paris</td>\n",
       "      <td>1</td>\n",
       "      <td>0</td>\n",
       "    </tr>\n",
       "    <tr>\n",
       "      <th>7</th>\n",
       "      <td>Le pire service de Paris. C'est un véritable s...</td>\n",
       "      <td>2.0</td>\n",
       "      <td>06/02/2016</td>\n",
       "      <td>Paris</td>\n",
       "      <td>1</td>\n",
       "      <td>0</td>\n",
       "    </tr>\n",
       "    <tr>\n",
       "      <th>8</th>\n",
       "      <td>J'ai voulu aimer ce resto, vu que c'est juste ...</td>\n",
       "      <td>2.0</td>\n",
       "      <td>06/02/2016</td>\n",
       "      <td>Paris</td>\n",
       "      <td>1</td>\n",
       "      <td>0</td>\n",
       "    </tr>\n",
       "    <tr>\n",
       "      <th>9</th>\n",
       "      <td>Dommage qu'avec un cadre aussi beau et des bur...</td>\n",
       "      <td>2.0</td>\n",
       "      <td>06/02/2016</td>\n",
       "      <td>Paris</td>\n",
       "      <td>1</td>\n",
       "      <td>0</td>\n",
       "    </tr>\n",
       "  </tbody>\n",
       "</table>\n",
       "</div>"
      ],
      "text/plain": [
       "                                            Comments Rating        Date  \\\n",
       "0  L'endroit a tout pour plaire mais le service e...    1.0  06/02/2016   \n",
       "1  Nous nous sommes présenté a 5 pour déjeuner......    1.0  06/02/2016   \n",
       "2  Pire serveuse de paris. La blonde musclée qui ...    1.0  06/02/2016   \n",
       "3  Pas donné, y a mieux et moins cher et pour ce ...    1.0  06/02/2016   \n",
       "4  Cliente depuis l'ouverture, je n'étais pas ret...    1.0  06/02/2016   \n",
       "5  Un restaurant ou vous devez vous taire, priori...    1.0  06/02/2016   \n",
       "6  J'ai été plus que dessus puisqu'au bout de pre...    1.0  06/02/2016   \n",
       "7  Le pire service de Paris. C'est un véritable s...    2.0  06/02/2016   \n",
       "8  J'ai voulu aimer ce resto, vu que c'est juste ...    2.0  06/02/2016   \n",
       "9  Dommage qu'avec un cadre aussi beau et des bur...    2.0  06/02/2016   \n",
       "\n",
       "  Location Review_count Friend_count  \n",
       "0    Paris            1            0  \n",
       "1    Paris            1            0  \n",
       "2    Paris            1            0  \n",
       "3    Paris            1            0  \n",
       "4    Paris            1            0  \n",
       "5    Paris            1            0  \n",
       "6    Paris            1            0  \n",
       "7    Paris            1            0  \n",
       "8    Paris            1            0  \n",
       "9    Paris            1            0  "
      ]
     },
     "execution_count": 325,
     "metadata": {},
     "output_type": "execute_result"
    }
   ],
   "source": [
    "# check\n",
    "data"
   ]
  },
  {
   "cell_type": "code",
   "execution_count": 326,
   "metadata": {},
   "outputs": [],
   "source": [
    "# add restaurant_url to have unique ID for restaurant\n",
    "# add review type = 0 for fake or unrecommended reviews\n",
    "data[\"restaurant_url\"] = url\n",
    "data[\"review_type\"] = 0"
   ]
  },
  {
   "cell_type": "code",
   "execution_count": 322,
   "metadata": {},
   "outputs": [
    {
     "data": {
      "text/html": [
       "<div>\n",
       "<style scoped>\n",
       "    .dataframe tbody tr th:only-of-type {\n",
       "        vertical-align: middle;\n",
       "    }\n",
       "\n",
       "    .dataframe tbody tr th {\n",
       "        vertical-align: top;\n",
       "    }\n",
       "\n",
       "    .dataframe thead th {\n",
       "        text-align: right;\n",
       "    }\n",
       "</style>\n",
       "<table border=\"1\" class=\"dataframe\">\n",
       "  <thead>\n",
       "    <tr style=\"text-align: right;\">\n",
       "      <th></th>\n",
       "      <th>Comments</th>\n",
       "      <th>Rating</th>\n",
       "      <th>Date</th>\n",
       "      <th>Location</th>\n",
       "      <th>Review_count</th>\n",
       "      <th>Friend_count</th>\n",
       "      <th>review_url</th>\n",
       "      <th>review_type</th>\n",
       "    </tr>\n",
       "  </thead>\n",
       "  <tbody>\n",
       "    <tr>\n",
       "      <th>0</th>\n",
       "      <td>L'endroit a tout pour plaire mais le service e...</td>\n",
       "      <td>1.0</td>\n",
       "      <td>06/02/2016</td>\n",
       "      <td>Paris</td>\n",
       "      <td>1</td>\n",
       "      <td>0</td>\n",
       "      <td>https://www.yelp.fr/biz/le-dépanneur-pigalle-p...</td>\n",
       "      <td>0</td>\n",
       "    </tr>\n",
       "    <tr>\n",
       "      <th>1</th>\n",
       "      <td>Nous nous sommes présenté a 5 pour déjeuner......</td>\n",
       "      <td>1.0</td>\n",
       "      <td>06/02/2016</td>\n",
       "      <td>Paris</td>\n",
       "      <td>1</td>\n",
       "      <td>0</td>\n",
       "      <td>https://www.yelp.fr/biz/le-dépanneur-pigalle-p...</td>\n",
       "      <td>0</td>\n",
       "    </tr>\n",
       "    <tr>\n",
       "      <th>2</th>\n",
       "      <td>Pire serveuse de paris. La blonde musclée qui ...</td>\n",
       "      <td>1.0</td>\n",
       "      <td>06/02/2016</td>\n",
       "      <td>Paris</td>\n",
       "      <td>1</td>\n",
       "      <td>0</td>\n",
       "      <td>https://www.yelp.fr/biz/le-dépanneur-pigalle-p...</td>\n",
       "      <td>0</td>\n",
       "    </tr>\n",
       "    <tr>\n",
       "      <th>3</th>\n",
       "      <td>Pas donné, y a mieux et moins cher et pour ce ...</td>\n",
       "      <td>1.0</td>\n",
       "      <td>06/02/2016</td>\n",
       "      <td>Paris</td>\n",
       "      <td>1</td>\n",
       "      <td>0</td>\n",
       "      <td>https://www.yelp.fr/biz/le-dépanneur-pigalle-p...</td>\n",
       "      <td>0</td>\n",
       "    </tr>\n",
       "    <tr>\n",
       "      <th>4</th>\n",
       "      <td>Cliente depuis l'ouverture, je n'étais pas ret...</td>\n",
       "      <td>1.0</td>\n",
       "      <td>06/02/2016</td>\n",
       "      <td>Paris</td>\n",
       "      <td>1</td>\n",
       "      <td>0</td>\n",
       "      <td>https://www.yelp.fr/biz/le-dépanneur-pigalle-p...</td>\n",
       "      <td>0</td>\n",
       "    </tr>\n",
       "    <tr>\n",
       "      <th>5</th>\n",
       "      <td>Un restaurant ou vous devez vous taire, priori...</td>\n",
       "      <td>1.0</td>\n",
       "      <td>06/02/2016</td>\n",
       "      <td>Paris</td>\n",
       "      <td>1</td>\n",
       "      <td>0</td>\n",
       "      <td>https://www.yelp.fr/biz/le-dépanneur-pigalle-p...</td>\n",
       "      <td>0</td>\n",
       "    </tr>\n",
       "    <tr>\n",
       "      <th>6</th>\n",
       "      <td>J'ai été plus que dessus puisqu'au bout de pre...</td>\n",
       "      <td>1.0</td>\n",
       "      <td>06/02/2016</td>\n",
       "      <td>Paris</td>\n",
       "      <td>1</td>\n",
       "      <td>0</td>\n",
       "      <td>https://www.yelp.fr/biz/le-dépanneur-pigalle-p...</td>\n",
       "      <td>0</td>\n",
       "    </tr>\n",
       "    <tr>\n",
       "      <th>7</th>\n",
       "      <td>Le pire service de Paris. C'est un véritable s...</td>\n",
       "      <td>2.0</td>\n",
       "      <td>06/02/2016</td>\n",
       "      <td>Paris</td>\n",
       "      <td>1</td>\n",
       "      <td>0</td>\n",
       "      <td>https://www.yelp.fr/biz/le-dépanneur-pigalle-p...</td>\n",
       "      <td>0</td>\n",
       "    </tr>\n",
       "    <tr>\n",
       "      <th>8</th>\n",
       "      <td>J'ai voulu aimer ce resto, vu que c'est juste ...</td>\n",
       "      <td>2.0</td>\n",
       "      <td>06/02/2016</td>\n",
       "      <td>Paris</td>\n",
       "      <td>1</td>\n",
       "      <td>0</td>\n",
       "      <td>https://www.yelp.fr/biz/le-dépanneur-pigalle-p...</td>\n",
       "      <td>0</td>\n",
       "    </tr>\n",
       "    <tr>\n",
       "      <th>9</th>\n",
       "      <td>Dommage qu'avec un cadre aussi beau et des bur...</td>\n",
       "      <td>2.0</td>\n",
       "      <td>06/02/2016</td>\n",
       "      <td>Paris</td>\n",
       "      <td>1</td>\n",
       "      <td>0</td>\n",
       "      <td>https://www.yelp.fr/biz/le-dépanneur-pigalle-p...</td>\n",
       "      <td>0</td>\n",
       "    </tr>\n",
       "  </tbody>\n",
       "</table>\n",
       "</div>"
      ],
      "text/plain": [
       "                                            Comments Rating        Date  \\\n",
       "0  L'endroit a tout pour plaire mais le service e...    1.0  06/02/2016   \n",
       "1  Nous nous sommes présenté a 5 pour déjeuner......    1.0  06/02/2016   \n",
       "2  Pire serveuse de paris. La blonde musclée qui ...    1.0  06/02/2016   \n",
       "3  Pas donné, y a mieux et moins cher et pour ce ...    1.0  06/02/2016   \n",
       "4  Cliente depuis l'ouverture, je n'étais pas ret...    1.0  06/02/2016   \n",
       "5  Un restaurant ou vous devez vous taire, priori...    1.0  06/02/2016   \n",
       "6  J'ai été plus que dessus puisqu'au bout de pre...    1.0  06/02/2016   \n",
       "7  Le pire service de Paris. C'est un véritable s...    2.0  06/02/2016   \n",
       "8  J'ai voulu aimer ce resto, vu que c'est juste ...    2.0  06/02/2016   \n",
       "9  Dommage qu'avec un cadre aussi beau et des bur...    2.0  06/02/2016   \n",
       "\n",
       "  Location Review_count Friend_count  \\\n",
       "0    Paris            1            0   \n",
       "1    Paris            1            0   \n",
       "2    Paris            1            0   \n",
       "3    Paris            1            0   \n",
       "4    Paris            1            0   \n",
       "5    Paris            1            0   \n",
       "6    Paris            1            0   \n",
       "7    Paris            1            0   \n",
       "8    Paris            1            0   \n",
       "9    Paris            1            0   \n",
       "\n",
       "                                          review_url  review_type  \n",
       "0  https://www.yelp.fr/biz/le-dépanneur-pigalle-p...            0  \n",
       "1  https://www.yelp.fr/biz/le-dépanneur-pigalle-p...            0  \n",
       "2  https://www.yelp.fr/biz/le-dépanneur-pigalle-p...            0  \n",
       "3  https://www.yelp.fr/biz/le-dépanneur-pigalle-p...            0  \n",
       "4  https://www.yelp.fr/biz/le-dépanneur-pigalle-p...            0  \n",
       "5  https://www.yelp.fr/biz/le-dépanneur-pigalle-p...            0  \n",
       "6  https://www.yelp.fr/biz/le-dépanneur-pigalle-p...            0  \n",
       "7  https://www.yelp.fr/biz/le-dépanneur-pigalle-p...            0  \n",
       "8  https://www.yelp.fr/biz/le-dépanneur-pigalle-p...            0  \n",
       "9  https://www.yelp.fr/biz/le-dépanneur-pigalle-p...            0  "
      ]
     },
     "execution_count": 322,
     "metadata": {},
     "output_type": "execute_result"
    }
   ],
   "source": [
    "#check \n",
    "data"
   ]
  },
  {
   "cell_type": "code",
   "execution_count": null,
   "metadata": {},
   "outputs": [],
   "source": []
  }
 ],
 "metadata": {
  "kernelspec": {
   "display_name": "Python 3",
   "language": "python",
   "name": "python3"
  },
  "language_info": {
   "codemirror_mode": {
    "name": "ipython",
    "version": 3
   },
   "file_extension": ".py",
   "mimetype": "text/x-python",
   "name": "python",
   "nbconvert_exporter": "python",
   "pygments_lexer": "ipython3",
   "version": "3.8.3"
  }
 },
 "nbformat": 4,
 "nbformat_minor": 2
}
