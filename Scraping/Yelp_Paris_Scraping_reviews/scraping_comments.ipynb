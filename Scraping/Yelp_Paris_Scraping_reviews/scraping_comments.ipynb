{
 "metadata": {
  "language_info": {
   "codemirror_mode": {
    "name": "ipython",
    "version": 3
   },
   "file_extension": ".py",
   "mimetype": "text/x-python",
   "name": "python",
   "nbconvert_exporter": "python",
   "pygments_lexer": "ipython3",
   "version": "3.7.9-final"
  },
  "orig_nbformat": 2,
  "kernelspec": {
   "name": "python3",
   "display_name": "Python 3",
   "language": "python"
  }
 },
 "nbformat": 4,
 "nbformat_minor": 2,
 "cells": [
  {
   "cell_type": "code",
   "execution_count": 1,
   "metadata": {},
   "outputs": [],
   "source": [
    "from time import sleep\n",
    "import pandas as pandas\n",
    "from selenium.webdriver.common.keys import Keys\n",
    "from selenium import webdriver\n",
    "from selenium.common.exceptions import TimeoutException\n",
    "from selenium.webdriver.support.ui import WebDriverWait \n",
    "import pandas as pd\n",
    "\n"
   ]
  },
  {
   "cell_type": "code",
   "execution_count": 2,
   "metadata": {},
   "outputs": [],
   "source": [
    "url = 'https://www.yelp.fr/biz/le-dépanneur-pigalle-paris-3'\n"
   ]
  },
  {
   "cell_type": "code",
   "execution_count": 3,
   "metadata": {},
   "outputs": [],
   "source": [
    "driver = webdriver.Chrome('/Users/admin/chromedriver')\n",
    "driver.get(url)\n",
    "sleep(10)\n",
    "\n",
    "\n",
    "comment_blocs = driver.find_elements_by_css_selector('.review__373c0__13kpL.border-color--default__373c0__3-ifU')\n"
   ]
  },
  {
   "cell_type": "code",
   "execution_count": 65,
   "metadata": {},
   "outputs": [
    {
     "output_type": "stream",
     "name": "stdout",
     "text": [
      "0 OK\n",
      "1 OK\n",
      "2 OK\n",
      "3 OK\n",
      "4 OK\n",
      "5 OK\n",
      "6 OK\n",
      "7 OK\n",
      "8 OK\n",
      "9 OK\n",
      "10 OK\n",
      "11 OK\n",
      "12 OK\n",
      "13 OK\n",
      "14 OK\n"
     ]
    },
    {
     "output_type": "error",
     "ename": "IndexError",
     "evalue": "list index out of range",
     "traceback": [
      "\u001b[0;31m---------------------------------------------------------------------------\u001b[0m",
      "\u001b[0;31mIndexError\u001b[0m                                Traceback (most recent call last)",
      "\u001b[0;32m<ipython-input-65-d5b14034d81d>\u001b[0m in \u001b[0;36m<module>\u001b[0;34m\u001b[0m\n\u001b[1;32m      5\u001b[0m     \u001b[0;32mtry\u001b[0m\u001b[0;34m:\u001b[0m\u001b[0;34m\u001b[0m\u001b[0;34m\u001b[0m\u001b[0m\n\u001b[0;32m----> 6\u001b[0;31m         \u001b[0mdate\u001b[0m \u001b[0;34m=\u001b[0m \u001b[0mcomment_blocs\u001b[0m\u001b[0;34m[\u001b[0m\u001b[0mi\u001b[0m\u001b[0;34m]\u001b[0m\u001b[0;34m.\u001b[0m\u001b[0mfind_elements_by_css_selector\u001b[0m\u001b[0;34m(\u001b[0m\u001b[0;34m'.text__373c0__2Kxyz.text-color--mid__373c0__jCeOG.text-align--left__373c0__2XGa-'\u001b[0m\u001b[0;34m)\u001b[0m\u001b[0;34m[\u001b[0m\u001b[0;36m3\u001b[0m\u001b[0;34m]\u001b[0m\u001b[0;34m.\u001b[0m\u001b[0mtext\u001b[0m\u001b[0;34m.\u001b[0m\u001b[0msplit\u001b[0m\u001b[0;34m(\u001b[0m\u001b[0;34m)\u001b[0m\u001b[0;34m[\u001b[0m\u001b[0;36m3\u001b[0m\u001b[0;34m]\u001b[0m\u001b[0;34m\u001b[0m\u001b[0;34m\u001b[0m\u001b[0m\n\u001b[0m\u001b[1;32m      7\u001b[0m     \u001b[0;32mexcept\u001b[0m\u001b[0;34m:\u001b[0m\u001b[0;34m\u001b[0m\u001b[0;34m\u001b[0m\u001b[0m\n",
      "\u001b[0;31mIndexError\u001b[0m: list index out of range",
      "\nDuring handling of the above exception, another exception occurred:\n",
      "\u001b[0;31mIndexError\u001b[0m                                Traceback (most recent call last)",
      "\u001b[0;32m<ipython-input-65-d5b14034d81d>\u001b[0m in \u001b[0;36m<module>\u001b[0;34m\u001b[0m\n\u001b[1;32m      6\u001b[0m         \u001b[0mdate\u001b[0m \u001b[0;34m=\u001b[0m \u001b[0mcomment_blocs\u001b[0m\u001b[0;34m[\u001b[0m\u001b[0mi\u001b[0m\u001b[0;34m]\u001b[0m\u001b[0;34m.\u001b[0m\u001b[0mfind_elements_by_css_selector\u001b[0m\u001b[0;34m(\u001b[0m\u001b[0;34m'.text__373c0__2Kxyz.text-color--mid__373c0__jCeOG.text-align--left__373c0__2XGa-'\u001b[0m\u001b[0;34m)\u001b[0m\u001b[0;34m[\u001b[0m\u001b[0;36m3\u001b[0m\u001b[0;34m]\u001b[0m\u001b[0;34m.\u001b[0m\u001b[0mtext\u001b[0m\u001b[0;34m.\u001b[0m\u001b[0msplit\u001b[0m\u001b[0;34m(\u001b[0m\u001b[0;34m)\u001b[0m\u001b[0;34m[\u001b[0m\u001b[0;36m3\u001b[0m\u001b[0;34m]\u001b[0m\u001b[0;34m\u001b[0m\u001b[0;34m\u001b[0m\u001b[0m\n\u001b[1;32m      7\u001b[0m     \u001b[0;32mexcept\u001b[0m\u001b[0;34m:\u001b[0m\u001b[0;34m\u001b[0m\u001b[0;34m\u001b[0m\u001b[0m\n\u001b[0;32m----> 8\u001b[0;31m         \u001b[0mdate\u001b[0m \u001b[0;34m=\u001b[0m \u001b[0mcomment_blocs\u001b[0m\u001b[0;34m[\u001b[0m\u001b[0mi\u001b[0m\u001b[0;34m]\u001b[0m\u001b[0;34m.\u001b[0m\u001b[0mfind_elements_by_css_selector\u001b[0m\u001b[0;34m(\u001b[0m\u001b[0;34m'.text__373c0__2Kxyz.text-color--mid__373c0__jCeOG.text-align--left__373c0__2XGa-'\u001b[0m\u001b[0;34m)\u001b[0m\u001b[0;34m[\u001b[0m\u001b[0;36m3\u001b[0m\u001b[0;34m]\u001b[0m\u001b[0;34m.\u001b[0m\u001b[0mtext\u001b[0m\u001b[0;34m.\u001b[0m\u001b[0msplit\u001b[0m\u001b[0;34m(\u001b[0m\u001b[0;34m)\u001b[0m\u001b[0;34m[\u001b[0m\u001b[0;36m2\u001b[0m\u001b[0;34m]\u001b[0m\u001b[0;34m\u001b[0m\u001b[0;34m\u001b[0m\u001b[0m\n\u001b[0m\u001b[1;32m      9\u001b[0m     \u001b[0mrating\u001b[0m \u001b[0;34m=\u001b[0m \u001b[0mcomment_blocs\u001b[0m\u001b[0;34m[\u001b[0m\u001b[0mi\u001b[0m\u001b[0;34m]\u001b[0m\u001b[0;34m.\u001b[0m\u001b[0mfind_element_by_css_selector\u001b[0m\u001b[0;34m(\u001b[0m\u001b[0;34m'.i-stars__373c0__1T6rz'\u001b[0m\u001b[0;34m)\u001b[0m\u001b[0;34m.\u001b[0m\u001b[0mget_attribute\u001b[0m\u001b[0;34m(\u001b[0m\u001b[0;34m'aria-label'\u001b[0m\u001b[0;34m)\u001b[0m\u001b[0;34m[\u001b[0m\u001b[0;36m0\u001b[0m\u001b[0;34m]\u001b[0m\u001b[0;34m\u001b[0m\u001b[0;34m\u001b[0m\u001b[0m\n\u001b[1;32m     10\u001b[0m     \u001b[0musername\u001b[0m \u001b[0;34m=\u001b[0m \u001b[0mcomment_blocs\u001b[0m\u001b[0;34m[\u001b[0m\u001b[0mi\u001b[0m\u001b[0;34m]\u001b[0m\u001b[0;34m.\u001b[0m\u001b[0mfind_elements_by_css_selector\u001b[0m\u001b[0;34m(\u001b[0m\u001b[0;34m'a.link__373c0__1G70M.link-size--inherit__373c0__1VFlE'\u001b[0m\u001b[0;34m)\u001b[0m\u001b[0;34m[\u001b[0m\u001b[0;36m0\u001b[0m\u001b[0;34m]\u001b[0m\u001b[0;34m.\u001b[0m\u001b[0mtext\u001b[0m\u001b[0;34m\u001b[0m\u001b[0;34m\u001b[0m\u001b[0m\n",
      "\u001b[0;31mIndexError\u001b[0m: list index out of range"
     ]
    }
   ],
   "source": [
    "comment_blocs = driver.find_elements_by_css_selector('.review__373c0__13kpL.border-color--default__373c0__3-ifU')\n",
    "detailed_reviews_list=[]\n",
    " \n",
    "for i in range(len(comment_blocs)):\n",
    "    try:\n",
    "        date = comment_blocs[i].find_elements_by_css_selector('.text__373c0__2Kxyz.text-color--mid__373c0__jCeOG.text-align--left__373c0__2XGa-')[3].text.split()[3]\n",
    "    except: \n",
    "        date = comment_blocs[i].find_elements_by_css_selector('.text__373c0__2Kxyz.text-color--mid__373c0__jCeOG.text-align--left__373c0__2XGa-')[3].text.split()[2]\n",
    "    rating = comment_blocs[i].find_element_by_css_selector('.i-stars__373c0__1T6rz').get_attribute('aria-label')[0]\n",
    "\n",
    "    username = comment_blocs[i].find_elements_by_css_selector('a.link__373c0__1G70M.link-size--inherit__373c0__1VFlE')[0].text\n",
    "    \n",
    "    try:\n",
    "        photos_for_review = comment_blocs[i].find_elements_by_css_selector('a.link__373c0__1G70M.link-size--inherit__373c0__1VFlE')[1].text[0]\n",
    "    except:\n",
    "        photos_for_review = 0\n",
    "    user_location =  comment_blocs[i].find_elements_by_css_selector('.text__373c0__2Kxyz.text-color--normal__373c0__3xep9.text-align--left__373c0__2XGa-')[0].text\n",
    "    text_review =  comment_blocs[i].find_elements_by_css_selector('.text__373c0__2Kxyz.text-color--normal__373c0__3xep9.text-align--left__373c0__2XGa-')[1].text\n",
    "    friends_count = comment_blocs[i].find_elements_by_css_selector('.text__373c0__2Kxyz.text-color--mid__373c0__jCeOG.text-weight--semibold__373c0__2l0fe')[0].text\n",
    "    total_reviews_of_user = comment_blocs[i].find_elements_by_css_selector('.text__373c0__2Kxyz.text-weight--semibold__373c0__2l0fe')[1].text\n",
    "\n",
    "    try:\n",
    "        total_image_posted = comment_blocs[i].find_elements_by_css_selector('.text__373c0__2Kxyz.text-color--mid__373c0__jCeOG.text-weight--semibold__373c0__2l0fe')[2].text\n",
    "    except:\n",
    "        total_image_posted = 0\n",
    "\n",
    "    is_real_review = 1\n",
    "\n",
    "    detailed_reviews_list.append([date, username, photos_for_review, rating, text_review, user_location, friends_count, total_reviews_of_user, total_image_posted, is_real_review])\n",
    "\n",
    "    \n",
    "    print(i, 'OK')\n",
    "df = pd.DataFrame(detailed_reviews_list,\n",
    "                             columns = ['date','username', 'photos_for_review', 'rating',\n",
    "                                         'text_review', 'user_location', 'friends_count',\n",
    "                                          'total_reviews_of_user', 'total_image_posted', 'is_real_review'])\n"
   ]
  },
  {
   "cell_type": "code",
   "execution_count": 32,
   "metadata": {},
   "outputs": [
    {
     "output_type": "execute_result",
     "data": {
      "text/plain": [
       "            username photos_for_review rating  \\\n",
       "0         Olivier A.                 2      4   \n",
       "1          Noémie B.                 4      4   \n",
       "2          Tanguy L.                 0      2   \n",
       "3          Louise M.                 0      3   \n",
       "4   Pierre-morgan A.                 1      4   \n",
       "5        Thibault N.                 1      4   \n",
       "6          Pierre B.                 1      5   \n",
       "7         Aintsoa R.                 1      3   \n",
       "8          Marine B.                 1      4   \n",
       "9          Noemie T.                 1      3   \n",
       "10         Sophie B.                 4      4   \n",
       "11        Lalaina R.                 3      4   \n",
       "12          David A.                 1      1   \n",
       "13        Camille R.                 0      4   \n",
       "14         Carole S.                 0      2   \n",
       "15         Elodie T.                 0      2   \n",
       "16         Elodie R.                 4      5   \n",
       "17          Thaïs V.                 0      4   \n",
       "18          Anaïs B.                 1      4   \n",
       "19          Laila L.                 0      4   \n",
       "\n",
       "                                          text_review  \\\n",
       "0   Très bel établissement dans le 9eme branché et...   \n",
       "1   Alors alors, le Dépanneur, si j'y mets 4 étoil...   \n",
       "2   Guacamole plein d'eau belle présentation mais ...   \n",
       "3   Ce lieu est vraiment bien, les serveurs et ser...   \n",
       "4   Ambiance et cadre très sympa, situé dans un qu...   \n",
       "5   Les burgers ne sont pas donnés, mais très bons...   \n",
       "6   Je suis conquis :)\\nJe crois que c'est mon pre...   \n",
       "7   La décoration: tout mignon tout joli, du bois,...   \n",
       "8   Rectificatif sur les burgers signés Cantine Ca...   \n",
       "9   Rien que pour le bar! Le mieux, c'est de laiss...   \n",
       "10  Face le Mansart, dans le mouchoir de poche bra...   \n",
       "11  Je n'y suis allée que pour un verre mais je n'...   \n",
       "12  Halalalalala Mon pauv' Jordan, ton camion ne t...   \n",
       "13  On va pas se mentir, j'ai d'abord été attirée ...   \n",
       "14  CADRE\\nCa c'est de l'intime : on n'y voit pas ...   \n",
       "15  Ca aurait pu être cool... MAIS NON!\\n\\nLE LIEU...   \n",
       "16  Voilà, c'est fait, j'ai mangé le meilleur burg...   \n",
       "17  Ca faisait un moment que je voulais me caler s...   \n",
       "18  La terrasse du dépanneur... Comment dire... Tu...   \n",
       "19  Très très jolie terrasse arborée avec tables e...   \n",
       "\n",
       "                 city_of_user number_of_friends total_reviews_of_user  \\\n",
       "0                       Paris                50                    52   \n",
       "1                       Paris                96                   285   \n",
       "2                       Paris                 5                    16   \n",
       "3                       Paris                83                    93   \n",
       "4   Barbès/Goutte d'Or, Paris                92                    12   \n",
       "5                       Paris                10                    52   \n",
       "6                       Paris                 2                    20   \n",
       "7                       Paris                 9                    14   \n",
       "8                       Paris               671                   198   \n",
       "9                       Paris                 3                     6   \n",
       "10                      Paris               117                   395   \n",
       "11  Saint-Mandé, Val-de-Marne               329                   268   \n",
       "12                      Paris                82                   142   \n",
       "13   Nanterre, Hauts-de-Seine                77                   112   \n",
       "14                      Paris                35                    69   \n",
       "15               18ème, Paris                 0                     3   \n",
       "16                  Marseille                17                    15   \n",
       "17                      Paris               103                   187   \n",
       "18                      Paris                46                    77   \n",
       "19  Vaugirard/Grenelle, Paris                57                    95   \n",
       "\n",
       "   total_image_posted  is_real_review  \n",
       "0                  67               1  \n",
       "1                 486               1  \n",
       "2                   7               1  \n",
       "3                 284               1  \n",
       "4                  14               1  \n",
       "5                  35               1  \n",
       "6                  11               1  \n",
       "7                  11               1  \n",
       "8                 441               1  \n",
       "9                   3               1  \n",
       "10                659               1  \n",
       "11               1167               1  \n",
       "12                121               1  \n",
       "13                 22               1  \n",
       "14                 89               1  \n",
       "15                  0               1  \n",
       "16                 25               1  \n",
       "17                123               1  \n",
       "18                168               1  \n",
       "19                118               1  "
      ],
      "text/html": "<div>\n<style scoped>\n    .dataframe tbody tr th:only-of-type {\n        vertical-align: middle;\n    }\n\n    .dataframe tbody tr th {\n        vertical-align: top;\n    }\n\n    .dataframe thead th {\n        text-align: right;\n    }\n</style>\n<table border=\"1\" class=\"dataframe\">\n  <thead>\n    <tr style=\"text-align: right;\">\n      <th></th>\n      <th>username</th>\n      <th>photos_for_review</th>\n      <th>rating</th>\n      <th>text_review</th>\n      <th>city_of_user</th>\n      <th>number_of_friends</th>\n      <th>total_reviews_of_user</th>\n      <th>total_image_posted</th>\n      <th>is_real_review</th>\n    </tr>\n  </thead>\n  <tbody>\n    <tr>\n      <th>0</th>\n      <td>Olivier A.</td>\n      <td>2</td>\n      <td>4</td>\n      <td>Très bel établissement dans le 9eme branché et...</td>\n      <td>Paris</td>\n      <td>50</td>\n      <td>52</td>\n      <td>67</td>\n      <td>1</td>\n    </tr>\n    <tr>\n      <th>1</th>\n      <td>Noémie B.</td>\n      <td>4</td>\n      <td>4</td>\n      <td>Alors alors, le Dépanneur, si j'y mets 4 étoil...</td>\n      <td>Paris</td>\n      <td>96</td>\n      <td>285</td>\n      <td>486</td>\n      <td>1</td>\n    </tr>\n    <tr>\n      <th>2</th>\n      <td>Tanguy L.</td>\n      <td>0</td>\n      <td>2</td>\n      <td>Guacamole plein d'eau belle présentation mais ...</td>\n      <td>Paris</td>\n      <td>5</td>\n      <td>16</td>\n      <td>7</td>\n      <td>1</td>\n    </tr>\n    <tr>\n      <th>3</th>\n      <td>Louise M.</td>\n      <td>0</td>\n      <td>3</td>\n      <td>Ce lieu est vraiment bien, les serveurs et ser...</td>\n      <td>Paris</td>\n      <td>83</td>\n      <td>93</td>\n      <td>284</td>\n      <td>1</td>\n    </tr>\n    <tr>\n      <th>4</th>\n      <td>Pierre-morgan A.</td>\n      <td>1</td>\n      <td>4</td>\n      <td>Ambiance et cadre très sympa, situé dans un qu...</td>\n      <td>Barbès/Goutte d'Or, Paris</td>\n      <td>92</td>\n      <td>12</td>\n      <td>14</td>\n      <td>1</td>\n    </tr>\n    <tr>\n      <th>5</th>\n      <td>Thibault N.</td>\n      <td>1</td>\n      <td>4</td>\n      <td>Les burgers ne sont pas donnés, mais très bons...</td>\n      <td>Paris</td>\n      <td>10</td>\n      <td>52</td>\n      <td>35</td>\n      <td>1</td>\n    </tr>\n    <tr>\n      <th>6</th>\n      <td>Pierre B.</td>\n      <td>1</td>\n      <td>5</td>\n      <td>Je suis conquis :)\\nJe crois que c'est mon pre...</td>\n      <td>Paris</td>\n      <td>2</td>\n      <td>20</td>\n      <td>11</td>\n      <td>1</td>\n    </tr>\n    <tr>\n      <th>7</th>\n      <td>Aintsoa R.</td>\n      <td>1</td>\n      <td>3</td>\n      <td>La décoration: tout mignon tout joli, du bois,...</td>\n      <td>Paris</td>\n      <td>9</td>\n      <td>14</td>\n      <td>11</td>\n      <td>1</td>\n    </tr>\n    <tr>\n      <th>8</th>\n      <td>Marine B.</td>\n      <td>1</td>\n      <td>4</td>\n      <td>Rectificatif sur les burgers signés Cantine Ca...</td>\n      <td>Paris</td>\n      <td>671</td>\n      <td>198</td>\n      <td>441</td>\n      <td>1</td>\n    </tr>\n    <tr>\n      <th>9</th>\n      <td>Noemie T.</td>\n      <td>1</td>\n      <td>3</td>\n      <td>Rien que pour le bar! Le mieux, c'est de laiss...</td>\n      <td>Paris</td>\n      <td>3</td>\n      <td>6</td>\n      <td>3</td>\n      <td>1</td>\n    </tr>\n    <tr>\n      <th>10</th>\n      <td>Sophie B.</td>\n      <td>4</td>\n      <td>4</td>\n      <td>Face le Mansart, dans le mouchoir de poche bra...</td>\n      <td>Paris</td>\n      <td>117</td>\n      <td>395</td>\n      <td>659</td>\n      <td>1</td>\n    </tr>\n    <tr>\n      <th>11</th>\n      <td>Lalaina R.</td>\n      <td>3</td>\n      <td>4</td>\n      <td>Je n'y suis allée que pour un verre mais je n'...</td>\n      <td>Saint-Mandé, Val-de-Marne</td>\n      <td>329</td>\n      <td>268</td>\n      <td>1167</td>\n      <td>1</td>\n    </tr>\n    <tr>\n      <th>12</th>\n      <td>David A.</td>\n      <td>1</td>\n      <td>1</td>\n      <td>Halalalalala Mon pauv' Jordan, ton camion ne t...</td>\n      <td>Paris</td>\n      <td>82</td>\n      <td>142</td>\n      <td>121</td>\n      <td>1</td>\n    </tr>\n    <tr>\n      <th>13</th>\n      <td>Camille R.</td>\n      <td>0</td>\n      <td>4</td>\n      <td>On va pas se mentir, j'ai d'abord été attirée ...</td>\n      <td>Nanterre, Hauts-de-Seine</td>\n      <td>77</td>\n      <td>112</td>\n      <td>22</td>\n      <td>1</td>\n    </tr>\n    <tr>\n      <th>14</th>\n      <td>Carole S.</td>\n      <td>0</td>\n      <td>2</td>\n      <td>CADRE\\nCa c'est de l'intime : on n'y voit pas ...</td>\n      <td>Paris</td>\n      <td>35</td>\n      <td>69</td>\n      <td>89</td>\n      <td>1</td>\n    </tr>\n    <tr>\n      <th>15</th>\n      <td>Elodie T.</td>\n      <td>0</td>\n      <td>2</td>\n      <td>Ca aurait pu être cool... MAIS NON!\\n\\nLE LIEU...</td>\n      <td>18ème, Paris</td>\n      <td>0</td>\n      <td>3</td>\n      <td>0</td>\n      <td>1</td>\n    </tr>\n    <tr>\n      <th>16</th>\n      <td>Elodie R.</td>\n      <td>4</td>\n      <td>5</td>\n      <td>Voilà, c'est fait, j'ai mangé le meilleur burg...</td>\n      <td>Marseille</td>\n      <td>17</td>\n      <td>15</td>\n      <td>25</td>\n      <td>1</td>\n    </tr>\n    <tr>\n      <th>17</th>\n      <td>Thaïs V.</td>\n      <td>0</td>\n      <td>4</td>\n      <td>Ca faisait un moment que je voulais me caler s...</td>\n      <td>Paris</td>\n      <td>103</td>\n      <td>187</td>\n      <td>123</td>\n      <td>1</td>\n    </tr>\n    <tr>\n      <th>18</th>\n      <td>Anaïs B.</td>\n      <td>1</td>\n      <td>4</td>\n      <td>La terrasse du dépanneur... Comment dire... Tu...</td>\n      <td>Paris</td>\n      <td>46</td>\n      <td>77</td>\n      <td>168</td>\n      <td>1</td>\n    </tr>\n    <tr>\n      <th>19</th>\n      <td>Laila L.</td>\n      <td>0</td>\n      <td>4</td>\n      <td>Très très jolie terrasse arborée avec tables e...</td>\n      <td>Vaugirard/Grenelle, Paris</td>\n      <td>57</td>\n      <td>95</td>\n      <td>118</td>\n      <td>1</td>\n    </tr>\n  </tbody>\n</table>\n</div>"
     },
     "metadata": {},
     "execution_count": 32
    }
   ],
   "source": [
    "df"
   ]
  },
  {
   "cell_type": "code",
   "execution_count": 281,
   "metadata": {},
   "outputs": [
    {
     "output_type": "error",
     "ename": "IndexError",
     "evalue": "list index out of range",
     "traceback": [
      "\u001b[0;31m---------------------------------------------------------------------------\u001b[0m",
      "\u001b[0;31mIndexError\u001b[0m                                Traceback (most recent call last)",
      "\u001b[0;32m<ipython-input-281-f31b7ed0b55e>\u001b[0m in \u001b[0;36m<module>\u001b[0;34m\u001b[0m\n\u001b[0;32m----> 1\u001b[0;31m \u001b[0mcomment_blocs\u001b[0m\u001b[0;34m[\u001b[0m\u001b[0;36m20\u001b[0m\u001b[0;34m]\u001b[0m\u001b[0;34m.\u001b[0m\u001b[0mfind_element_by_css_selector\u001b[0m\u001b[0;34m(\u001b[0m\u001b[0;34m'.i-stars__373c0__1T6rz'\u001b[0m\u001b[0;34m)\u001b[0m\u001b[0;34m.\u001b[0m\u001b[0mget_attribute\u001b[0m\u001b[0;34m(\u001b[0m\u001b[0;34m'aria-label'\u001b[0m\u001b[0;34m)\u001b[0m\u001b[0;34m[\u001b[0m\u001b[0;36m0\u001b[0m\u001b[0;34m]\u001b[0m\u001b[0;34m\u001b[0m\u001b[0;34m\u001b[0m\u001b[0m\n\u001b[0m",
      "\u001b[0;31mIndexError\u001b[0m: list index out of range"
     ]
    }
   ],
   "source": [
    "comment_blocs[20].find_element_by_css_selector('.i-stars__373c0__1T6rz').get_attribute('aria-label')[0]"
   ]
  },
  {
   "cell_type": "code",
   "execution_count": 61,
   "metadata": {},
   "outputs": [
    {
     "output_type": "stream",
     "name": "stdout",
     "text": [
      "0 25/10/2017\n",
      "1 10/06/2016\n",
      "2 07/06/2018\n",
      "3 08/07/2017\n",
      "4 05/06/2016\n",
      "5 23/02/2015\n",
      "6 28/08/2015\n",
      "7 16/06/2014\n",
      "8 précédent\n",
      "9 29/10/2014\n",
      "10 31/07/2013\n",
      "11 12/09/2013\n",
      "12 30/07/2013\n",
      "13 21/08/2016\n",
      "14 29/04/2015\n",
      "15 22/04/2015\n",
      "16 27/01/2014\n",
      "17 28/05/2015\n",
      "18 23/09/2015\n",
      "19 24/08/2015\n"
     ]
    }
   ],
   "source": [
    "for i in range(20):\n",
    "    print(i, comment_blocs[i].find_elements_by_css_selector('.text__373c0__2Kxyz.text-color--mid__373c0__jCeOG.text-align--left__373c0__2XGa-')[-1].text.split()[-1])"
   ]
  },
  {
   "cell_type": "code",
   "execution_count": 64,
   "metadata": {},
   "outputs": [
    {
     "output_type": "stream",
     "name": "stdout",
     "text": [
      "671\n",
      "198\n",
      "441\n",
      "Publié le 07/07/2014\n",
      "Avis mis à jour\n",
      "Publié le 13/01/2014\n",
      "Avis précédent\n"
     ]
    }
   ],
   "source": [
    "for i in range(7):\n",
    "    print(comment_blocs[8].find_elements_by_css_selector('div.review__373c0__13kpL span.text__373c0__2Kxyz.text-color--mid__373c0__jCeOG.text-align--left__373c0__2XGa-')[i].text)"
   ]
  },
  {
   "cell_type": "code",
   "execution_count": null,
   "metadata": {},
   "outputs": [],
   "source": []
  }
 ]
}