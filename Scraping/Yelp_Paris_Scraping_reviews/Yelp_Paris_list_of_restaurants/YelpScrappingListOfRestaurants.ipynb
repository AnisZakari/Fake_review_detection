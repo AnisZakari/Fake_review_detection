{
 "metadata": {
  "language_info": {
   "codemirror_mode": {
    "name": "ipython",
    "version": 3
   },
   "file_extension": ".py",
   "mimetype": "text/x-python",
   "name": "python",
   "nbconvert_exporter": "python",
   "pygments_lexer": "ipython3",
   "version": "3.7.9-final"
  },
  "orig_nbformat": 2,
  "kernelspec": {
   "name": "python3",
   "display_name": "Python 3",
   "language": "python"
  }
 },
 "nbformat": 4,
 "nbformat_minor": 2,
 "cells": [
  {
   "cell_type": "code",
   "execution_count": 129,
   "metadata": {},
   "outputs": [],
   "source": [
    "import pandas as pd\n",
    "from bs4 import BeautifulSoup\n",
    "import requests"
   ]
  },
  {
   "cell_type": "code",
   "execution_count": 132,
   "metadata": {},
   "outputs": [],
   "source": [
    "def get_soup(url):    \n",
    "    \n",
    "    headers = {'User-Agent': \"Mozilla/5.0 (Windows NT 6.1; WOW64) AppleWebKit/537.36 (KHTML, like Gecko) Chrome/38.0.2125.104 Safari/537.36\"}\n",
    "    response = requests.get(url, headers=headers)\n",
    "    soup = BeautifulSoup(response.content, 'html.parser')\n",
    "    \n",
    "    return soup"
   ]
  },
  {
   "cell_type": "code",
   "execution_count": 196,
   "metadata": {},
   "outputs": [],
   "source": []
  },
  {
   "cell_type": "code",
   "execution_count": 133,
   "metadata": {},
   "outputs": [],
   "source": [
    "#We get the links of every category of cuisine available in Yelp, in the following webpage\n",
    "category_names = []\n",
    "link_to_category = []\n",
    "soup = get_soup('https://www.yelp.fr/c/paris/restaurants')\n",
    "category_items = soup.select('.arrange.arrange--12.arrange--wrap.arrange--6-units a')\n",
    "n_items = len(category_items)\n",
    "\n",
    "for i in range(n_items):\n",
    "    #get category name\n",
    "    category = category_items[i].get_text()\n",
    "    #get link\n",
    "    href = category_items[i].get('href')\n",
    "    link = 'https://www.yelp.fr' + href\n",
    "    \n",
    "    category_names.append(category)\n",
    "    link_to_category.append(link)\n"
   ]
  },
  {
   "cell_type": "code",
   "execution_count": 134,
   "metadata": {},
   "outputs": [],
   "source": [
    "data = pd.DataFrame( dict(category_names = category_names,\n",
    "                         link_to_category = link_to_category))\n",
    "                         "
   ]
  },
  {
   "cell_type": "code",
   "execution_count": 135,
   "metadata": {},
   "outputs": [
    {
     "output_type": "execute_result",
     "data": {
      "text/plain": [
       "            category_names                                link_to_category\n",
       "0                   Afghan              https://www.yelp.fr/c/paris/afghan\n",
       "1        Cuisine africaine            https://www.yelp.fr/c/paris/africain\n",
       "2                 Alsacien            https://www.yelp.fr/c/paris/alsacien\n",
       "3  Américain traditionnel       https://www.yelp.fr/c/paris/am%C3%A9ricain\n",
       "4     Cuisine des Pouilles  https://www.yelp.fr/c/paris/Cuisinedespouilles"
      ],
      "text/html": "<div>\n<style scoped>\n    .dataframe tbody tr th:only-of-type {\n        vertical-align: middle;\n    }\n\n    .dataframe tbody tr th {\n        vertical-align: top;\n    }\n\n    .dataframe thead th {\n        text-align: right;\n    }\n</style>\n<table border=\"1\" class=\"dataframe\">\n  <thead>\n    <tr style=\"text-align: right;\">\n      <th></th>\n      <th>category_names</th>\n      <th>link_to_category</th>\n    </tr>\n  </thead>\n  <tbody>\n    <tr>\n      <th>0</th>\n      <td>Afghan</td>\n      <td>https://www.yelp.fr/c/paris/afghan</td>\n    </tr>\n    <tr>\n      <th>1</th>\n      <td>Cuisine africaine</td>\n      <td>https://www.yelp.fr/c/paris/africain</td>\n    </tr>\n    <tr>\n      <th>2</th>\n      <td>Alsacien</td>\n      <td>https://www.yelp.fr/c/paris/alsacien</td>\n    </tr>\n    <tr>\n      <th>3</th>\n      <td>Américain traditionnel</td>\n      <td>https://www.yelp.fr/c/paris/am%C3%A9ricain</td>\n    </tr>\n    <tr>\n      <th>4</th>\n      <td>Cuisine des Pouilles</td>\n      <td>https://www.yelp.fr/c/paris/Cuisinedespouilles</td>\n    </tr>\n  </tbody>\n</table>\n</div>"
     },
     "metadata": {},
     "execution_count": 135
    }
   ],
   "source": [
    "data.head()"
   ]
  },
  {
   "cell_type": "code",
   "execution_count": 136,
   "metadata": {},
   "outputs": [
    {
     "output_type": "stream",
     "name": "stdout",
     "text": [
      "0 https://www.yelp.fr/search?cflt=afghani&find_loc=Paris%2C+France\n",
      "1 https://www.yelp.fr/search?cflt=african&find_loc=Paris%2C+France\n",
      "2 https://www.yelp.fr/search?cflt=alsatian&find_loc=Paris%2C+France\n",
      "3 https://www.yelp.fr/search?cflt=tradamerican&find_loc=Paris%2C+France\n",
      "4 redirection https://www.yelp.fr/search?cflt=apulian&find_loc=Paris\n",
      "5 https://www.yelp.fr/search?cflt=arabian&find_loc=Paris%2C+France\n",
      "6 https://www.yelp.fr/search?cflt=argentine&find_loc=Paris%2C+France\n",
      "7 https://www.yelp.fr/search?cflt=armenian&find_loc=Paris%2C+France\n",
      "8 https://www.yelp.fr/search?cflt=asianfusion&find_loc=Paris%2C+France\n",
      "9 redirection https://www.yelp.fr/search?cflt=australian&find_loc=Paris\n",
      "10 redirection https://www.yelp.fr/search?cflt=austrian&find_loc=Paris\n",
      "11 https://www.yelp.fr/search?cflt=auvergnat&find_loc=Paris%2C+France\n",
      "12 redirection https://www.yelp.fr/search?cflt=bangladeshi&find_loc=Paris\n",
      "13 https://www.yelp.fr/search?cflt=bbq&find_loc=Paris%2C+France\n",
      "14 https://www.yelp.fr/search?cflt=basque&find_loc=Paris%2C+France\n",
      "15 https://www.yelp.fr/search?cflt=belgian&find_loc=Paris%2C+France\n",
      "16 redirection https://www.yelp.fr/search?cflt=berrichon&find_loc=Paris\n",
      "17 https://www.yelp.fr/search?cflt=bistros&find_loc=Paris%2C+France\n",
      "18 redirection https://www.yelp.fr/search?cflt=bourguignon&find_loc=Paris\n",
      "19 https://www.yelp.fr/search?cflt=brasseries&find_loc=Paris%2C+France\n",
      "20 https://www.yelp.fr/search?cflt=brazilian&find_loc=Paris%2C+France\n",
      "21 https://www.yelp.fr/search?cflt=breakfast_brunch&find_loc=Paris%2C+France\n",
      "22 https://www.yelp.fr/search?cflt=british&find_loc=Paris%2C+France\n",
      "23 https://www.yelp.fr/search?cflt=buffets&find_loc=Paris%2C+France\n",
      "24 redirection https://www.yelp.fr/search?cflt=bulgarian&find_loc=Paris\n",
      "25 https://www.yelp.fr/search?cflt=burgers&find_loc=Paris%2C+France\n",
      "26 redirection https://www.yelp.fr/search?cflt=burmese&find_loc=Paris\n",
      "27 https://www.yelp.fr/search?cflt=cafes&find_loc=Paris%2C+France\n",
      "28 https://www.yelp.fr/search?cflt=cajun&find_loc=Paris%2C+France\n",
      "29 redirection https://www.yelp.fr/search?cflt=calabrian&find_loc=Paris\n",
      "30 https://www.yelp.fr/search?cflt=cambodian&find_loc=Paris%2C+France\n",
      "31 https://www.yelp.fr/search?cflt=cantonese&find_loc=Paris%2C+France\n",
      "32 https://www.yelp.fr/search?cflt=caribbean&find_loc=Paris%2C+France\n",
      "33 redirection https://www.yelp.fr/search?cflt=catalan&find_loc=Paris\n",
      "34 https://www.yelp.fr/search?cflt=chickenshop&find_loc=Paris%2C+France\n",
      "35 redirection https://www.yelp.fr/search?cflt=chilean&find_loc=Paris\n",
      "36 https://www.yelp.fr/search?cflt=chinese&find_loc=Paris%2C+France\n",
      "37 https://www.yelp.fr/search?cflt=colombian&find_loc=Paris%2C+France\n",
      "38 https://www.yelp.fr/search?cflt=corsican&find_loc=Paris%2C+France\n",
      "39 https://www.yelp.fr/search?cflt=creperies&find_loc=Paris%2C+France\n",
      "40 https://www.yelp.fr/search?cflt=cuban&find_loc=Paris%2C+France\n",
      "41 redirection https://www.yelp.fr/search?cflt=czech&find_loc=Paris\n",
      "42 redirection https://www.yelp.fr/search?cflt=danish&find_loc=Paris\n",
      "43 https://www.yelp.fr/search?cflt=dimsum&find_loc=Paris%2C+France\n",
      "44 https://www.yelp.fr/search?cflt=diners&find_loc=Paris%2C+France\n",
      "45 redirection https://www.yelp.fr/search?cflt=eastern_european&find_loc=Paris\n",
      "46 redirection https://www.yelp.fr/search?cflt=egyptian&find_loc=Paris\n",
      "47 https://www.yelp.fr/search?cflt=ethiopian&find_loc=Paris%2C+France\n",
      "48 https://www.yelp.fr/search?cflt=falafel&find_loc=Paris%2C+France\n",
      "49 https://www.yelp.fr/search?cflt=hotdogs&find_loc=Paris%2C+France\n",
      "50 redirection https://www.yelp.fr/search?cflt=filipino&find_loc=Paris\n",
      "51 https://www.yelp.fr/search?cflt=fishnchips&find_loc=Paris%2C+France\n",
      "52 redirection https://www.yelp.fr/search?cflt=flemish&find_loc=Paris\n",
      "53 https://www.yelp.fr/search?cflt=fondue&find_loc=Paris%2C+France\n",
      "54 https://www.yelp.fr/search?cflt=foodstands&find_loc=Paris%2C+France\n",
      "55 https://www.yelp.fr/search?cflt=french&find_loc=Paris%2C+France\n",
      "56 https://www.yelp.fr/search?cflt=sud_ouest&find_loc=Paris%2C+France\n",
      "57 redirection https://www.yelp.fr/search?cflt=gamemeat&find_loc=Paris\n",
      "58 https://www.yelp.fr/search?cflt=gastropubs&find_loc=Paris%2C+France\n",
      "59 https://www.yelp.fr/search?cflt=german&find_loc=Paris%2C+France\n",
      "60 https://www.yelp.fr/search?cflt=gluten_free&find_loc=Paris%2C+France\n",
      "61 https://www.yelp.fr/search?cflt=greek&find_loc=Paris%2C+France\n",
      "62 https://www.yelp.fr/search?cflt=halal&find_loc=Paris%2C+France\n",
      "63 https://www.yelp.fr/search?cflt=hawaiian&find_loc=Paris%2C+France\n",
      "64 https://www.yelp.fr/search?cflt=himalayan&find_loc=Paris%2C+France\n",
      "65 redirection https://www.yelp.fr/search?cflt=honduran&find_loc=Paris\n",
      "66 https://www.yelp.fr/search?cflt=hotdog&find_loc=Paris%2C+France\n",
      "67 https://www.yelp.fr/search?cflt=hotpot&find_loc=Paris%2C+France\n",
      "68 redirection https://www.yelp.fr/search?cflt=hunan&find_loc=Paris\n",
      "69 redirection https://www.yelp.fr/search?cflt=hungarian&find_loc=Paris\n",
      "70 https://www.yelp.fr/search?cflt=indpak&find_loc=Paris%2C+France\n",
      "71 https://www.yelp.fr/search?cflt=indonesian&find_loc=Paris%2C+France\n",
      "72 https://www.yelp.fr/search?cflt=international&find_loc=Paris%2C+France\n",
      "73 redirection https://www.yelp.fr/search?cflt=irish&find_loc=Paris\n",
      "74 https://www.yelp.fr/search?cflt=italian&find_loc=Paris%2C+France\n",
      "75 https://www.yelp.fr/search?cflt=japanese&find_loc=Paris%2C+France\n",
      "76 https://www.yelp.fr/search?cflt=kebab&find_loc=Paris%2C+France\n",
      "77 https://www.yelp.fr/search?cflt=korean&find_loc=Paris%2C+France\n",
      "78 https://www.yelp.fr/search?cflt=kosher&find_loc=Paris%2C+France\n",
      "79 https://www.yelp.fr/search?cflt=laotian&find_loc=Paris%2C+France\n",
      "80 https://www.yelp.fr/search?cflt=latin&find_loc=Paris%2C+France\n",
      "81 https://www.yelp.fr/search?cflt=lebanese&find_loc=Paris%2C+France\n",
      "82 redirection https://www.yelp.fr/search?cflt=ligurian&find_loc=Paris\n",
      "83 https://www.yelp.fr/search?cflt=lyonnais&find_loc=Paris%2C+France\n",
      "84 redirection https://www.yelp.fr/search?cflt=malaysian&find_loc=Paris\n",
      "85 https://www.yelp.fr/search?cflt=mauritius&find_loc=Paris%2C+France\n",
      "86 redirection https://www.yelp.fr/search?cflt=meatballs&find_loc=Paris\n",
      "87 https://www.yelp.fr/search?cflt=mediterranean&find_loc=Paris%2C+France\n",
      "88 https://www.yelp.fr/search?cflt=mexican&find_loc=Paris%2C+France\n",
      "89 https://www.yelp.fr/search?cflt=mideastern&find_loc=Paris%2C+France\n",
      "90 https://www.yelp.fr/search?cflt=modern_european&find_loc=Paris%2C+France\n",
      "91 redirection https://www.yelp.fr/search?cflt=mongolian&find_loc=Paris\n",
      "92 https://www.yelp.fr/search?cflt=moroccan&find_loc=Paris%2C+France\n",
      "93 https://www.yelp.fr/search?cflt=napoletana&find_loc=Paris%2C+France\n",
      "94 redirection https://www.yelp.fr/search?cflt=nicaraguan&find_loc=Paris\n",
      "95 redirection https://www.yelp.fr/search?cflt=nicois&find_loc=Paris\n",
      "96 https://www.yelp.fr/search?cflt=oriental&find_loc=Paris%2C+France\n",
      "97 https://www.yelp.fr/search?cflt=pakistani&find_loc=Paris%2C+France\n",
      "98 https://www.yelp.fr/search?cflt=panasian&find_loc=Paris%2C+France\n",
      "99 redirection https://www.yelp.fr/search?cflt=pancakes&find_loc=Paris\n",
      "100 redirection https://www.yelp.fr/search?cflt=pekinese&find_loc=Paris\n",
      "101 https://www.yelp.fr/search?cflt=persian&find_loc=Paris%2C+France\n",
      "102 https://www.yelp.fr/search?cflt=peruvian&find_loc=Paris%2C+France\n",
      "103 redirection https://www.yelp.fr/search?cflt=piemonte&find_loc=Paris\n",
      "104 https://www.yelp.fr/search?cflt=pizza&find_loc=Paris%2C+France\n",
      "105 redirection https://www.yelp.fr/search?cflt=polish&find_loc=Paris\n",
      "106 redirection https://www.yelp.fr/search?cflt=popuprestaurants&find_loc=Paris\n",
      "107 https://www.yelp.fr/search?cflt=portuguese&find_loc=Paris%2C+France\n",
      "108 redirection https://www.yelp.fr/search?cflt=provencal&find_loc=Paris\n",
      "109 https://www.yelp.fr/search?cflt=ramen&find_loc=Paris%2C+France\n",
      "110 https://www.yelp.fr/search?cflt=reunion&find_loc=Paris%2C+France\n",
      "111 redirection https://www.yelp.fr/search?cflt=roman&find_loc=Paris\n",
      "112 redirection https://www.yelp.fr/search?cflt=romanian&find_loc=Paris\n",
      "113 https://www.yelp.fr/search?cflt=rotisserie_chicken&find_loc=Paris%2C+France\n",
      "114 https://www.yelp.fr/search?cflt=russian&find_loc=Paris%2C+France\n",
      "115 https://www.yelp.fr/search?cflt=salad&find_loc=Paris%2C+France\n",
      "116 https://www.yelp.fr/search?cflt=sandwiches&find_loc=Paris%2C+France\n",
      "117 redirection https://www.yelp.fr/search?cflt=sardinian&find_loc=Paris\n",
      "118 https://www.yelp.fr/search?cflt=scandinavian&find_loc=Paris%2C+France\n",
      "119 https://www.yelp.fr/search?cflt=seafood&find_loc=Paris%2C+France\n",
      "120 https://www.yelp.fr/search?cflt=senegalese&find_loc=Paris%2C+France\n",
      "121 redirection https://www.yelp.fr/search?cflt=serbocroatian&find_loc=Paris\n",
      "122 redirection https://www.yelp.fr/search?cflt=shanghainese&find_loc=Paris\n",
      "123 redirection https://www.yelp.fr/search?cflt=sicilian&find_loc=Paris\n",
      "124 redirection https://www.yelp.fr/search?cflt=singaporean&find_loc=Paris\n",
      "125 redirection https://www.yelp.fr/search?cflt=slovakian&find_loc=Paris\n",
      "126 https://www.yelp.fr/search?cflt=soup&find_loc=Paris%2C+France\n",
      "127 redirection https://www.yelp.fr/search?cflt=southafrican&find_loc=Paris\n",
      "128 https://www.yelp.fr/search?cflt=spanish&find_loc=Paris%2C+France\n",
      "129 redirection https://www.yelp.fr/search?cflt=srilankan&find_loc=Paris\n",
      "130 https://www.yelp.fr/search?cflt=steak&find_loc=Paris%2C+France\n",
      "131 https://www.yelp.fr/search?cflt=sushi&find_loc=Paris%2C+France\n",
      "132 redirection https://www.yelp.fr/search?cflt=syrian&find_loc=Paris\n",
      "133 https://www.yelp.fr/search?cflt=szechuan&find_loc=Paris%2C+France\n",
      "134 https://www.yelp.fr/search?cflt=taiwanese&find_loc=Paris%2C+France\n",
      "135 https://www.yelp.fr/search?cflt=tapas&find_loc=Paris%2C+France\n",
      "136 https://www.yelp.fr/search?cflt=tapasmallplates&find_loc=Paris%2C+France\n",
      "137 https://www.yelp.fr/search?cflt=tex-mex&find_loc=Paris%2C+France\n",
      "138 https://www.yelp.fr/search?cflt=thai&find_loc=Paris%2C+France\n",
      "139 https://www.yelp.fr/search?cflt=themedcafes&find_loc=Paris%2C+France\n",
      "140 redirection https://www.yelp.fr/search?cflt=norwegian&find_loc=Paris\n",
      "141 https://www.yelp.fr/search?cflt=trattorie&find_loc=Paris%2C+France\n",
      "142 https://www.yelp.fr/search?cflt=turkish&find_loc=Paris%2C+France\n",
      "143 redirection https://www.yelp.fr/search?cflt=tuscan&find_loc=Paris\n",
      "144 redirection https://www.yelp.fr/search?cflt=ukrainian&find_loc=Paris\n",
      "145 https://www.yelp.fr/search?cflt=vegan&find_loc=Paris%2C+France\n",
      "146 https://www.yelp.fr/search?cflt=vegetarian&find_loc=Paris%2C+France\n",
      "147 redirection https://www.yelp.fr/search?cflt=venetian&find_loc=Paris\n",
      "148 redirection https://www.yelp.fr/search?cflt=venezuelan&find_loc=Paris\n",
      "149 https://www.yelp.fr/search?cflt=vietnamese&find_loc=Paris%2C+France\n",
      "150 https://www.yelp.fr/search?cflt=waffles&find_loc=Paris%2C+France\n",
      "151 https://www.yelp.fr/search?cflt=wok&find_loc=Paris%2C+France\n",
      "152 redirection https://www.yelp.fr/search?cflt=yugoslav&find_loc=Paris\n"
     ]
    }
   ],
   "source": [
    "#Previous links are not very useful to loop on, but we will use them to get better links that we can work with\n",
    "#On each of the previous link there is a button in the middle of the page that redirects us on the pages we want\n",
    "\n",
    "link_to_list = []\n",
    "no_link = []\n",
    "for i in range(len(link_to_category)):\n",
    "    url = link_to_category[i]\n",
    "    try:\n",
    "        soup = get_soup(url)\n",
    "        href = soup.select('.button-more')[0].get('href')\n",
    "        link = 'https://www.yelp.fr' + href\n",
    "        link_to_list.append(link)\n",
    "        print(i, link)\n",
    "    except:\n",
    "        #if it doesn't find the button then it's because Yelp has already redirected you to the good webpage so we have to get the new link of the redirection (response.url)\n",
    "        response = requests.get(url)\n",
    "        link = response.url\n",
    "        link_to_list.append(link)\n",
    "        print(i, 'redirection', link)\n",
    "\n"
   ]
  },
  {
   "cell_type": "code",
   "execution_count": 137,
   "metadata": {},
   "outputs": [],
   "source": [
    "data['link_to_restaurants_list'] = link_to_list"
   ]
  },
  {
   "cell_type": "code",
   "execution_count": 138,
   "metadata": {},
   "outputs": [
    {
     "output_type": "execute_result",
     "data": {
      "text/plain": [
       "            category_names                                link_to_category  \\\n",
       "0                   Afghan              https://www.yelp.fr/c/paris/afghan   \n",
       "1        Cuisine africaine            https://www.yelp.fr/c/paris/africain   \n",
       "2                 Alsacien            https://www.yelp.fr/c/paris/alsacien   \n",
       "3  Américain traditionnel       https://www.yelp.fr/c/paris/am%C3%A9ricain   \n",
       "4     Cuisine des Pouilles  https://www.yelp.fr/c/paris/Cuisinedespouilles   \n",
       "\n",
       "                            link_to_restaurants_list  \n",
       "0  https://www.yelp.fr/search?cflt=afghani&find_l...  \n",
       "1  https://www.yelp.fr/search?cflt=african&find_l...  \n",
       "2  https://www.yelp.fr/search?cflt=alsatian&find_...  \n",
       "3  https://www.yelp.fr/search?cflt=tradamerican&f...  \n",
       "4  https://www.yelp.fr/search?cflt=apulian&find_l...  "
      ],
      "text/html": "<div>\n<style scoped>\n    .dataframe tbody tr th:only-of-type {\n        vertical-align: middle;\n    }\n\n    .dataframe tbody tr th {\n        vertical-align: top;\n    }\n\n    .dataframe thead th {\n        text-align: right;\n    }\n</style>\n<table border=\"1\" class=\"dataframe\">\n  <thead>\n    <tr style=\"text-align: right;\">\n      <th></th>\n      <th>category_names</th>\n      <th>link_to_category</th>\n      <th>link_to_restaurants_list</th>\n    </tr>\n  </thead>\n  <tbody>\n    <tr>\n      <th>0</th>\n      <td>Afghan</td>\n      <td>https://www.yelp.fr/c/paris/afghan</td>\n      <td>https://www.yelp.fr/search?cflt=afghani&amp;find_l...</td>\n    </tr>\n    <tr>\n      <th>1</th>\n      <td>Cuisine africaine</td>\n      <td>https://www.yelp.fr/c/paris/africain</td>\n      <td>https://www.yelp.fr/search?cflt=african&amp;find_l...</td>\n    </tr>\n    <tr>\n      <th>2</th>\n      <td>Alsacien</td>\n      <td>https://www.yelp.fr/c/paris/alsacien</td>\n      <td>https://www.yelp.fr/search?cflt=alsatian&amp;find_...</td>\n    </tr>\n    <tr>\n      <th>3</th>\n      <td>Américain traditionnel</td>\n      <td>https://www.yelp.fr/c/paris/am%C3%A9ricain</td>\n      <td>https://www.yelp.fr/search?cflt=tradamerican&amp;f...</td>\n    </tr>\n    <tr>\n      <th>4</th>\n      <td>Cuisine des Pouilles</td>\n      <td>https://www.yelp.fr/c/paris/Cuisinedespouilles</td>\n      <td>https://www.yelp.fr/search?cflt=apulian&amp;find_l...</td>\n    </tr>\n  </tbody>\n</table>\n</div>"
     },
     "metadata": {},
     "execution_count": 138
    }
   ],
   "source": [
    "data.head()"
   ]
  },
  {
   "cell_type": "code",
   "execution_count": 139,
   "metadata": {},
   "outputs": [
    {
     "output_type": "stream",
     "name": "stdout",
     "text": [
      "0 https://www.yelp.fr/search?cflt=afghani&find_loc=Paris%2C+France 1\n",
      "1 https://www.yelp.fr/search?cflt=african&find_loc=Paris%2C+France 1\n",
      "2 https://www.yelp.fr/search?cflt=alsatian&find_loc=Paris%2C+France 1\n",
      "3 https://www.yelp.fr/search?cflt=tradamerican&find_loc=Paris%2C+France 1\n",
      "4 https://www.yelp.fr/search?cflt=apulian&find_loc=Paris 1\n",
      "5 https://www.yelp.fr/search?cflt=arabian&find_loc=Paris%2C+France 1\n",
      "6 https://www.yelp.fr/search?cflt=argentine&find_loc=Paris%2C+France 1\n",
      "7 https://www.yelp.fr/search?cflt=armenian&find_loc=Paris%2C+France 1\n",
      "8 https://www.yelp.fr/search?cflt=asianfusion&find_loc=Paris%2C+France 1\n",
      "9 https://www.yelp.fr/search?cflt=australian&find_loc=Paris 1\n",
      "10 https://www.yelp.fr/search?cflt=austrian&find_loc=Paris 1\n",
      "11 https://www.yelp.fr/search?cflt=auvergnat&find_loc=Paris%2C+France 1\n",
      "12 https://www.yelp.fr/search?cflt=bangladeshi&find_loc=Paris 1\n",
      "13 https://www.yelp.fr/search?cflt=bbq&find_loc=Paris%2C+France 1\n",
      "14 https://www.yelp.fr/search?cflt=basque&find_loc=Paris%2C+France 1\n",
      "15 https://www.yelp.fr/search?cflt=belgian&find_loc=Paris%2C+France 1\n",
      "16 https://www.yelp.fr/search?cflt=berrichon&find_loc=Paris 0\n",
      "17 https://www.yelp.fr/search?cflt=bistros&find_loc=Paris%2C+France 1\n",
      "18 https://www.yelp.fr/search?cflt=bourguignon&find_loc=Paris 1\n",
      "19 https://www.yelp.fr/search?cflt=brasseries&find_loc=Paris%2C+France 1\n",
      "20 https://www.yelp.fr/search?cflt=brazilian&find_loc=Paris%2C+France 1\n",
      "21 https://www.yelp.fr/search?cflt=breakfast_brunch&find_loc=Paris%2C+France 1\n",
      "22 https://www.yelp.fr/search?cflt=british&find_loc=Paris%2C+France 1\n",
      "23 https://www.yelp.fr/search?cflt=buffets&find_loc=Paris%2C+France 1\n",
      "24 https://www.yelp.fr/search?cflt=bulgarian&find_loc=Paris 0\n",
      "25 https://www.yelp.fr/search?cflt=burgers&find_loc=Paris%2C+France 1\n",
      "26 https://www.yelp.fr/search?cflt=burmese&find_loc=Paris 0\n",
      "27 https://www.yelp.fr/search?cflt=cafes&find_loc=Paris%2C+France 1\n",
      "28 https://www.yelp.fr/search?cflt=cajun&find_loc=Paris%2C+France 1\n",
      "29 https://www.yelp.fr/search?cflt=calabrian&find_loc=Paris 0\n",
      "30 https://www.yelp.fr/search?cflt=cambodian&find_loc=Paris%2C+France 1\n",
      "31 https://www.yelp.fr/search?cflt=cantonese&find_loc=Paris%2C+France 1\n",
      "32 https://www.yelp.fr/search?cflt=caribbean&find_loc=Paris%2C+France 1\n",
      "33 https://www.yelp.fr/search?cflt=catalan&find_loc=Paris 1\n",
      "34 https://www.yelp.fr/search?cflt=chickenshop&find_loc=Paris%2C+France 1\n",
      "35 https://www.yelp.fr/search?cflt=chilean&find_loc=Paris 0\n",
      "36 https://www.yelp.fr/search?cflt=chinese&find_loc=Paris%2C+France 1\n",
      "37 https://www.yelp.fr/search?cflt=colombian&find_loc=Paris%2C+France 1\n",
      "38 https://www.yelp.fr/search?cflt=corsican&find_loc=Paris%2C+France 1\n",
      "39 https://www.yelp.fr/search?cflt=creperies&find_loc=Paris%2C+France 1\n",
      "40 https://www.yelp.fr/search?cflt=cuban&find_loc=Paris%2C+France 1\n",
      "41 https://www.yelp.fr/search?cflt=czech&find_loc=Paris 0\n",
      "42 https://www.yelp.fr/search?cflt=danish&find_loc=Paris 1\n",
      "43 https://www.yelp.fr/search?cflt=dimsum&find_loc=Paris%2C+France 1\n",
      "44 https://www.yelp.fr/search?cflt=diners&find_loc=Paris%2C+France 1\n",
      "45 https://www.yelp.fr/search?cflt=eastern_european&find_loc=Paris 1\n",
      "46 https://www.yelp.fr/search?cflt=egyptian&find_loc=Paris 1\n",
      "47 https://www.yelp.fr/search?cflt=ethiopian&find_loc=Paris%2C+France 1\n",
      "48 https://www.yelp.fr/search?cflt=falafel&find_loc=Paris%2C+France 1\n",
      "49 https://www.yelp.fr/search?cflt=hotdogs&find_loc=Paris%2C+France 1\n",
      "50 https://www.yelp.fr/search?cflt=filipino&find_loc=Paris 1\n",
      "51 https://www.yelp.fr/search?cflt=fishnchips&find_loc=Paris%2C+France 1\n",
      "52 https://www.yelp.fr/search?cflt=flemish&find_loc=Paris 0\n",
      "53 https://www.yelp.fr/search?cflt=fondue&find_loc=Paris%2C+France 1\n",
      "54 https://www.yelp.fr/search?cflt=foodstands&find_loc=Paris%2C+France 1\n",
      "55 https://www.yelp.fr/search?cflt=french&find_loc=Paris%2C+France 1\n",
      "56 https://www.yelp.fr/search?cflt=sud_ouest&find_loc=Paris%2C+France 1\n",
      "57 https://www.yelp.fr/search?cflt=gamemeat&find_loc=Paris 0\n",
      "58 https://www.yelp.fr/search?cflt=gastropubs&find_loc=Paris%2C+France 1\n",
      "59 https://www.yelp.fr/search?cflt=german&find_loc=Paris%2C+France 1\n",
      "60 https://www.yelp.fr/search?cflt=gluten_free&find_loc=Paris%2C+France 1\n",
      "61 https://www.yelp.fr/search?cflt=greek&find_loc=Paris%2C+France 1\n",
      "62 https://www.yelp.fr/search?cflt=halal&find_loc=Paris%2C+France 1\n",
      "63 https://www.yelp.fr/search?cflt=hawaiian&find_loc=Paris%2C+France 1\n",
      "64 https://www.yelp.fr/search?cflt=himalayan&find_loc=Paris%2C+France 1\n",
      "65 https://www.yelp.fr/search?cflt=honduran&find_loc=Paris 1\n",
      "66 https://www.yelp.fr/search?cflt=hotdog&find_loc=Paris%2C+France 1\n",
      "67 https://www.yelp.fr/search?cflt=hotpot&find_loc=Paris%2C+France 1\n",
      "68 https://www.yelp.fr/search?cflt=hunan&find_loc=Paris 0\n",
      "69 https://www.yelp.fr/search?cflt=hungarian&find_loc=Paris 1\n",
      "70 https://www.yelp.fr/search?cflt=indpak&find_loc=Paris%2C+France 1\n",
      "71 https://www.yelp.fr/search?cflt=indonesian&find_loc=Paris%2C+France 1\n",
      "72 https://www.yelp.fr/search?cflt=international&find_loc=Paris%2C+France 1\n",
      "73 https://www.yelp.fr/search?cflt=irish&find_loc=Paris 1\n",
      "74 https://www.yelp.fr/search?cflt=italian&find_loc=Paris%2C+France 1\n",
      "75 https://www.yelp.fr/search?cflt=japanese&find_loc=Paris%2C+France 1\n",
      "76 https://www.yelp.fr/search?cflt=kebab&find_loc=Paris%2C+France 1\n",
      "77 https://www.yelp.fr/search?cflt=korean&find_loc=Paris%2C+France 1\n",
      "78 https://www.yelp.fr/search?cflt=kosher&find_loc=Paris%2C+France 1\n",
      "79 https://www.yelp.fr/search?cflt=laotian&find_loc=Paris%2C+France 1\n",
      "80 https://www.yelp.fr/search?cflt=latin&find_loc=Paris%2C+France 1\n",
      "81 https://www.yelp.fr/search?cflt=lebanese&find_loc=Paris%2C+France 1\n",
      "82 https://www.yelp.fr/search?cflt=ligurian&find_loc=Paris 0\n",
      "83 https://www.yelp.fr/search?cflt=lyonnais&find_loc=Paris%2C+France 1\n",
      "84 https://www.yelp.fr/search?cflt=malaysian&find_loc=Paris 1\n",
      "85 https://www.yelp.fr/search?cflt=mauritius&find_loc=Paris%2C+France 1\n",
      "86 https://www.yelp.fr/search?cflt=meatballs&find_loc=Paris 0\n",
      "87 https://www.yelp.fr/search?cflt=mediterranean&find_loc=Paris%2C+France 1\n",
      "88 https://www.yelp.fr/search?cflt=mexican&find_loc=Paris%2C+France 1\n",
      "89 https://www.yelp.fr/search?cflt=mideastern&find_loc=Paris%2C+France 1\n",
      "90 https://www.yelp.fr/search?cflt=modern_european&find_loc=Paris%2C+France 1\n",
      "91 https://www.yelp.fr/search?cflt=mongolian&find_loc=Paris 0\n",
      "92 https://www.yelp.fr/search?cflt=moroccan&find_loc=Paris%2C+France 1\n",
      "93 https://www.yelp.fr/search?cflt=napoletana&find_loc=Paris%2C+France 1\n",
      "94 https://www.yelp.fr/search?cflt=nicaraguan&find_loc=Paris 0\n",
      "95 https://www.yelp.fr/search?cflt=nicois&find_loc=Paris 0\n",
      "96 https://www.yelp.fr/search?cflt=oriental&find_loc=Paris%2C+France 1\n",
      "97 https://www.yelp.fr/search?cflt=pakistani&find_loc=Paris%2C+France 1\n",
      "98 https://www.yelp.fr/search?cflt=panasian&find_loc=Paris%2C+France 1\n",
      "99 https://www.yelp.fr/search?cflt=pancakes&find_loc=Paris 0\n",
      "100 https://www.yelp.fr/search?cflt=pekinese&find_loc=Paris 1\n",
      "101 https://www.yelp.fr/search?cflt=persian&find_loc=Paris%2C+France 1\n",
      "102 https://www.yelp.fr/search?cflt=peruvian&find_loc=Paris%2C+France 1\n",
      "103 https://www.yelp.fr/search?cflt=piemonte&find_loc=Paris 0\n",
      "104 https://www.yelp.fr/search?cflt=pizza&find_loc=Paris%2C+France 1\n",
      "105 https://www.yelp.fr/search?cflt=polish&find_loc=Paris 1\n",
      "106 https://www.yelp.fr/search?cflt=popuprestaurants&find_loc=Paris 1\n",
      "107 https://www.yelp.fr/search?cflt=portuguese&find_loc=Paris%2C+France 1\n",
      "108 https://www.yelp.fr/search?cflt=provencal&find_loc=Paris 1\n",
      "109 https://www.yelp.fr/search?cflt=ramen&find_loc=Paris%2C+France 1\n",
      "110 https://www.yelp.fr/search?cflt=reunion&find_loc=Paris%2C+France 1\n",
      "111 https://www.yelp.fr/search?cflt=roman&find_loc=Paris 0\n",
      "112 https://www.yelp.fr/search?cflt=romanian&find_loc=Paris 1\n",
      "113 https://www.yelp.fr/search?cflt=rotisserie_chicken&find_loc=Paris%2C+France 1\n",
      "114 https://www.yelp.fr/search?cflt=russian&find_loc=Paris%2C+France 1\n",
      "115 https://www.yelp.fr/search?cflt=salad&find_loc=Paris%2C+France 1\n",
      "116 https://www.yelp.fr/search?cflt=sandwiches&find_loc=Paris%2C+France 1\n",
      "117 https://www.yelp.fr/search?cflt=sardinian&find_loc=Paris 0\n",
      "118 https://www.yelp.fr/search?cflt=scandinavian&find_loc=Paris%2C+France 1\n",
      "119 https://www.yelp.fr/search?cflt=seafood&find_loc=Paris%2C+France 1\n",
      "120 https://www.yelp.fr/search?cflt=senegalese&find_loc=Paris%2C+France 1\n",
      "121 https://www.yelp.fr/search?cflt=serbocroatian&find_loc=Paris 1\n",
      "122 https://www.yelp.fr/search?cflt=shanghainese&find_loc=Paris 1\n",
      "123 https://www.yelp.fr/search?cflt=sicilian&find_loc=Paris 1\n",
      "124 https://www.yelp.fr/search?cflt=singaporean&find_loc=Paris 1\n",
      "125 https://www.yelp.fr/search?cflt=slovakian&find_loc=Paris 0\n",
      "126 https://www.yelp.fr/search?cflt=soup&find_loc=Paris%2C+France 1\n",
      "127 https://www.yelp.fr/search?cflt=southafrican&find_loc=Paris 0\n",
      "128 https://www.yelp.fr/search?cflt=spanish&find_loc=Paris%2C+France 1\n",
      "129 https://www.yelp.fr/search?cflt=srilankan&find_loc=Paris 1\n",
      "130 https://www.yelp.fr/search?cflt=steak&find_loc=Paris%2C+France 1\n",
      "131 https://www.yelp.fr/search?cflt=sushi&find_loc=Paris%2C+France 1\n",
      "132 https://www.yelp.fr/search?cflt=syrian&find_loc=Paris 1\n",
      "133 https://www.yelp.fr/search?cflt=szechuan&find_loc=Paris%2C+France 1\n",
      "134 https://www.yelp.fr/search?cflt=taiwanese&find_loc=Paris%2C+France 1\n",
      "135 https://www.yelp.fr/search?cflt=tapas&find_loc=Paris%2C+France 1\n",
      "136 https://www.yelp.fr/search?cflt=tapasmallplates&find_loc=Paris%2C+France 1\n",
      "137 https://www.yelp.fr/search?cflt=tex-mex&find_loc=Paris%2C+France 1\n",
      "138 https://www.yelp.fr/search?cflt=thai&find_loc=Paris%2C+France 1\n",
      "139 https://www.yelp.fr/search?cflt=themedcafes&find_loc=Paris%2C+France 1\n",
      "140 https://www.yelp.fr/search?cflt=norwegian&find_loc=Paris 0\n",
      "141 https://www.yelp.fr/search?cflt=trattorie&find_loc=Paris%2C+France 1\n",
      "142 https://www.yelp.fr/search?cflt=turkish&find_loc=Paris%2C+France 1\n",
      "143 https://www.yelp.fr/search?cflt=tuscan&find_loc=Paris 1\n",
      "144 https://www.yelp.fr/search?cflt=ukrainian&find_loc=Paris 1\n",
      "145 https://www.yelp.fr/search?cflt=vegan&find_loc=Paris%2C+France 1\n",
      "146 https://www.yelp.fr/search?cflt=vegetarian&find_loc=Paris%2C+France 1\n",
      "147 https://www.yelp.fr/search?cflt=venetian&find_loc=Paris 0\n",
      "148 https://www.yelp.fr/search?cflt=venezuelan&find_loc=Paris 1\n",
      "149 https://www.yelp.fr/search?cflt=vietnamese&find_loc=Paris%2C+France 1\n",
      "150 https://www.yelp.fr/search?cflt=waffles&find_loc=Paris%2C+France 1\n",
      "151 https://www.yelp.fr/search?cflt=wok&find_loc=Paris%2C+France 1\n",
      "152 https://www.yelp.fr/search?cflt=yugoslav&find_loc=Paris 0\n"
     ]
    }
   ],
   "source": [
    "#checking for pages without restaurant because if we don't remove them it will crash our code for the final big loop\n",
    "#we add a new column 'to_keep' to ou dataframe we fill it with x then we will update these value with the following code\n",
    "data['to_keep'] = 'x'\n",
    "for i in range(len(data)):\n",
    "    url = data['link_to_restaurants_list'][i]\n",
    "    soup = get_soup(url)\n",
    "    #if in our selector the first word is 'Pas' (first word of the full sentence 'Pas de résultats pour...') then we won't keep this page\n",
    "    if soup.select('.raw__09f24__3Obuy')[0].get_text().strip()[0:3] == 'Pas':\n",
    "        data['to_keep'][i] = 0\n",
    "        print(i, url, data['to_keep'][i])\n",
    "    else:\n",
    "        data['to_keep'][i] = 1\n",
    "        print(i, url, data['to_keep'][i])"
   ]
  },
  {
   "cell_type": "code",
   "execution_count": 140,
   "metadata": {},
   "outputs": [],
   "source": [
    "#we keep only the pages with at least 1 restaurant\n",
    "data = data.loc[data['to_keep']==1, :]"
   ]
  },
  {
   "cell_type": "code",
   "execution_count": 141,
   "metadata": {},
   "outputs": [
    {
     "output_type": "execute_result",
     "data": {
      "text/plain": [
       "            category_names                                link_to_category  \\\n",
       "0                   Afghan              https://www.yelp.fr/c/paris/afghan   \n",
       "1        Cuisine africaine            https://www.yelp.fr/c/paris/africain   \n",
       "2                 Alsacien            https://www.yelp.fr/c/paris/alsacien   \n",
       "3  Américain traditionnel       https://www.yelp.fr/c/paris/am%C3%A9ricain   \n",
       "4     Cuisine des Pouilles  https://www.yelp.fr/c/paris/Cuisinedespouilles   \n",
       "\n",
       "                            link_to_restaurants_list to_keep  \n",
       "0  https://www.yelp.fr/search?cflt=afghani&find_l...       1  \n",
       "1  https://www.yelp.fr/search?cflt=african&find_l...       1  \n",
       "2  https://www.yelp.fr/search?cflt=alsatian&find_...       1  \n",
       "3  https://www.yelp.fr/search?cflt=tradamerican&f...       1  \n",
       "4  https://www.yelp.fr/search?cflt=apulian&find_l...       1  "
      ],
      "text/html": "<div>\n<style scoped>\n    .dataframe tbody tr th:only-of-type {\n        vertical-align: middle;\n    }\n\n    .dataframe tbody tr th {\n        vertical-align: top;\n    }\n\n    .dataframe thead th {\n        text-align: right;\n    }\n</style>\n<table border=\"1\" class=\"dataframe\">\n  <thead>\n    <tr style=\"text-align: right;\">\n      <th></th>\n      <th>category_names</th>\n      <th>link_to_category</th>\n      <th>link_to_restaurants_list</th>\n      <th>to_keep</th>\n    </tr>\n  </thead>\n  <tbody>\n    <tr>\n      <th>0</th>\n      <td>Afghan</td>\n      <td>https://www.yelp.fr/c/paris/afghan</td>\n      <td>https://www.yelp.fr/search?cflt=afghani&amp;find_l...</td>\n      <td>1</td>\n    </tr>\n    <tr>\n      <th>1</th>\n      <td>Cuisine africaine</td>\n      <td>https://www.yelp.fr/c/paris/africain</td>\n      <td>https://www.yelp.fr/search?cflt=african&amp;find_l...</td>\n      <td>1</td>\n    </tr>\n    <tr>\n      <th>2</th>\n      <td>Alsacien</td>\n      <td>https://www.yelp.fr/c/paris/alsacien</td>\n      <td>https://www.yelp.fr/search?cflt=alsatian&amp;find_...</td>\n      <td>1</td>\n    </tr>\n    <tr>\n      <th>3</th>\n      <td>Américain traditionnel</td>\n      <td>https://www.yelp.fr/c/paris/am%C3%A9ricain</td>\n      <td>https://www.yelp.fr/search?cflt=tradamerican&amp;f...</td>\n      <td>1</td>\n    </tr>\n    <tr>\n      <th>4</th>\n      <td>Cuisine des Pouilles</td>\n      <td>https://www.yelp.fr/c/paris/Cuisinedespouilles</td>\n      <td>https://www.yelp.fr/search?cflt=apulian&amp;find_l...</td>\n      <td>1</td>\n    </tr>\n  </tbody>\n</table>\n</div>"
     },
     "metadata": {},
     "execution_count": 141
    }
   ],
   "source": [
    "data.head()"
   ]
  },
  {
   "cell_type": "code",
   "execution_count": 142,
   "metadata": {},
   "outputs": [],
   "source": [
    "#we drop row 4 as there is only 1 restaurant with no review for the 'Cuisine des Pouilles' Category\n",
    "data = data.drop(4).reset_index(drop = True)\n",
    "\n"
   ]
  },
  {
   "cell_type": "code",
   "execution_count": 143,
   "metadata": {},
   "outputs": [],
   "source": [
    "data.to_csv('links_to_categories.csv')"
   ]
  },
  {
   "cell_type": "code",
   "execution_count": 144,
   "metadata": {},
   "outputs": [
    {
     "output_type": "execute_result",
     "data": {
      "text/plain": [
       "            category_names                            link_to_category  \\\n",
       "0                   Afghan          https://www.yelp.fr/c/paris/afghan   \n",
       "1        Cuisine africaine        https://www.yelp.fr/c/paris/africain   \n",
       "2                 Alsacien        https://www.yelp.fr/c/paris/alsacien   \n",
       "3  Américain traditionnel   https://www.yelp.fr/c/paris/am%C3%A9ricain   \n",
       "4       Cuisine du Maghreb         https://www.yelp.fr/c/paris/maghreb   \n",
       "\n",
       "                            link_to_restaurants_list to_keep  \n",
       "0  https://www.yelp.fr/search?cflt=afghani&find_l...       1  \n",
       "1  https://www.yelp.fr/search?cflt=african&find_l...       1  \n",
       "2  https://www.yelp.fr/search?cflt=alsatian&find_...       1  \n",
       "3  https://www.yelp.fr/search?cflt=tradamerican&f...       1  \n",
       "4  https://www.yelp.fr/search?cflt=arabian&find_l...       1  "
      ],
      "text/html": "<div>\n<style scoped>\n    .dataframe tbody tr th:only-of-type {\n        vertical-align: middle;\n    }\n\n    .dataframe tbody tr th {\n        vertical-align: top;\n    }\n\n    .dataframe thead th {\n        text-align: right;\n    }\n</style>\n<table border=\"1\" class=\"dataframe\">\n  <thead>\n    <tr style=\"text-align: right;\">\n      <th></th>\n      <th>category_names</th>\n      <th>link_to_category</th>\n      <th>link_to_restaurants_list</th>\n      <th>to_keep</th>\n    </tr>\n  </thead>\n  <tbody>\n    <tr>\n      <th>0</th>\n      <td>Afghan</td>\n      <td>https://www.yelp.fr/c/paris/afghan</td>\n      <td>https://www.yelp.fr/search?cflt=afghani&amp;find_l...</td>\n      <td>1</td>\n    </tr>\n    <tr>\n      <th>1</th>\n      <td>Cuisine africaine</td>\n      <td>https://www.yelp.fr/c/paris/africain</td>\n      <td>https://www.yelp.fr/search?cflt=african&amp;find_l...</td>\n      <td>1</td>\n    </tr>\n    <tr>\n      <th>2</th>\n      <td>Alsacien</td>\n      <td>https://www.yelp.fr/c/paris/alsacien</td>\n      <td>https://www.yelp.fr/search?cflt=alsatian&amp;find_...</td>\n      <td>1</td>\n    </tr>\n    <tr>\n      <th>3</th>\n      <td>Américain traditionnel</td>\n      <td>https://www.yelp.fr/c/paris/am%C3%A9ricain</td>\n      <td>https://www.yelp.fr/search?cflt=tradamerican&amp;f...</td>\n      <td>1</td>\n    </tr>\n    <tr>\n      <th>4</th>\n      <td>Cuisine du Maghreb</td>\n      <td>https://www.yelp.fr/c/paris/maghreb</td>\n      <td>https://www.yelp.fr/search?cflt=arabian&amp;find_l...</td>\n      <td>1</td>\n    </tr>\n  </tbody>\n</table>\n</div>"
     },
     "metadata": {},
     "execution_count": 144
    }
   ],
   "source": [
    "data.head()"
   ]
  },
  {
   "cell_type": "code",
   "execution_count": 145,
   "metadata": {},
   "outputs": [],
   "source": [
    "#Creating N dataframes for each category of restaurant, each dataframe will contain the complete list of restaurants of the category\n",
    "df_list = [pd.DataFrame() for i in range(len(data))]"
   ]
  },
  {
   "cell_type": "code",
   "execution_count": 147,
   "metadata": {},
   "outputs": [
    {
     "output_type": "execute_result",
     "data": {
      "text/plain": [
       "'https://www.yelp.fr/search?cflt=afghani&find_loc=Paris%2C+France'"
      ]
     },
     "metadata": {},
     "execution_count": 147
    }
   ],
   "source": [
    "data['link_to_restaurants_list'][0]"
   ]
  },
  {
   "cell_type": "code",
   "execution_count": 195,
   "metadata": {
    "tags": []
   },
   "outputs": [
    {
     "output_type": "stream",
     "name": "stdout",
     "text": [
      "loop 121 page 0 Spécialités toscanes OK\n",
      "loop 122 page 0 Ukrainien OK\n",
      "loop 123 page 0 Végétalien OK\n",
      "loop 123 page 1 Végétalien OK\n",
      "loop 123 page 2 Végétalien OK\n",
      "loop 123 page 3 Végétalien OK\n",
      "loop 123 page 4 Végétalien OK\n",
      "loop 123 page 5 Végétalien OK\n",
      "loop 123 page 6 Végétalien OK\n",
      "loop 123 page 7 Végétalien OK\n",
      "loop 123 page 8 Végétalien OK\n",
      "loop 124 page 0 Végétarien OK\n",
      "loop 124 page 1 Végétarien OK\n",
      "loop 124 page 2 Végétarien OK\n",
      "loop 124 page 3 Végétarien OK\n",
      "loop 124 page 4 Végétarien OK\n",
      "loop 124 page 5 Végétarien OK\n",
      "loop 124 page 6 Végétarien OK\n",
      "loop 124 page 7 Végétarien OK\n",
      "loop 124 page 8 Végétarien OK\n",
      "loop 124 page 9 Végétarien OK\n",
      "loop 124 page 10 Végétarien OK\n",
      "loop 124 page 11 Végétarien OK\n",
      "loop 124 page 12 Végétarien OK\n",
      "loop 124 page 13 Végétarien OK\n",
      "loop 125 page 0 Vénézuélien OK\n",
      "loop 126 page 0 Vietnamien OK\n",
      "loop 126 page 1 Vietnamien OK\n",
      "loop 126 page 2 Vietnamien OK\n",
      "loop 126 page 3 Vietnamien OK\n",
      "loop 126 page 4 Vietnamien OK\n",
      "loop 126 page 5 Vietnamien OK\n",
      "loop 126 page 6 Vietnamien OK\n",
      "loop 126 page 7 Vietnamien OK\n",
      "loop 126 page 8 Vietnamien OK\n",
      "loop 126 page 9 Vietnamien OK\n",
      "loop 126 page 10 Vietnamien OK\n",
      "loop 126 page 11 Vietnamien OK\n",
      "loop 126 page 12 Vietnamien OK\n",
      "loop 126 page 13 Vietnamien OK\n",
      "loop 126 page 14 Vietnamien OK\n",
      "loop 126 page 15 Vietnamien OK\n",
      "loop 126 page 16 Vietnamien OK\n",
      "loop 126 page 17 Vietnamien OK\n",
      "loop 126 page 18 Vietnamien OK\n",
      "loop 126 page 19 Vietnamien OK\n",
      "loop 126 page 20 Vietnamien OK\n",
      "loop 126 page 21 Vietnamien OK\n",
      "loop 126 page 22 Vietnamien OK\n",
      "loop 126 page 23 Vietnamien OK\n",
      "loop 127 page 0 Gaufres OK\n",
      "loop 127 page 1 Gaufres OK\n",
      "loop 127 page 2 Gaufres OK\n",
      "loop 127 page 3 Gaufres OK\n",
      "loop 127 page 4 Gaufres OK\n",
      "loop 128 page 0 Wok OK\n",
      "loop 128 page 1 Wok OK\n",
      "loop 128 page 2 Wok OK\n",
      "loop 128 page 3 Wok OK\n",
      "loop 128 page 4 Wok OK\n"
     ]
    }
   ],
   "source": [
    "\n",
    "#We loop on every category in the dataset 'data' so that we can scrap every restaurant that belongs to this category \n",
    "for j in range(121, len(data)):  \n",
    "    #We need to empty these 3 lists after each loop\n",
    "    link_to_restaurant = []\n",
    "    list_restaurant_name = []\n",
    "    list_review_count = []\n",
    "    category = data['category_names'][j]\n",
    "    url = data['link_to_restaurants_list'][j] \n",
    "    url = url + '&ns=1&start='\n",
    "    soup = get_soup(url + '0')\n",
    "    #we get the number of pages at the very bottom of each webpage, the selector selects for instance '1 sur 24' then we take the last element '24'\n",
    "    num_of_pages = soup.select('div.border-color--default__09f24__R1nRO.text-align--center__09f24__31irQ \\\n",
    "    span.text__09f24__2tZKC.text-color--black-extra-light__09f24__38DtK.text-align--left__09f24__3Drs0')[0].get_text().split(' ')[-1]\n",
    "\n",
    "    for k in range(int(num_of_pages)):\n",
    "        #For each page we request url and create a soup (we put 10*k to get the correct starting element which depends on the number of pages)\n",
    "        soup = get_soup(url + str(10*k))\n",
    "        #Getting the branch that contains the name and the link of each restaurant\n",
    "        restaurants_info = soup.select(\".mainAttributes__09f24__26-vh\")\n",
    "        items_per_page = len(restaurants_info)\n",
    "\n",
    "        #we store all items of the page in the 3 lists\n",
    "        for i in range(items_per_page):\n",
    "            link = 'https://www.yelp.fr' + restaurants_info[i].select('h4 span a.link__09f24__1kwXV')[0].get('href')\n",
    "            name = restaurants_info[i].select('h4 span a.link__09f24__1kwXV')[0].get('name')\n",
    "            try:\n",
    "                #if we get an error with this line it means that there is no review so we need to raise an exception\n",
    "                review_count = restaurants_info[i].select('.reviewCount__09f24__EUXPN')[0].get_text()\n",
    "            except:\n",
    "                #if exception raised then there is no review\n",
    "                review_count = 0 \n",
    "\n",
    "            link_to_restaurant.append(link)\n",
    "            list_restaurant_name.append(name)\n",
    "            list_review_count.append(review_count)\n",
    "            df_restaurants = pd.DataFrame( dict(restaurant_name = list_restaurant_name,\n",
    "                                                link_to_restaurant = link_to_restaurant,\n",
    "                                                category = category,\n",
    "                                                review_count = list_review_count ))\n",
    "            df_list[j] = df_restaurants\n",
    "\n",
    "        print('loop', j, 'page', k, category, 'OK')\n"
   ]
  },
  {
   "cell_type": "code",
   "execution_count": 199,
   "metadata": {},
   "outputs": [],
   "source": [
    "#now we concatenate all the sub dateframes\n",
    "full_dataset = pd.concat(df_list)\n",
    "full_dataset = full_dataset.reset_index(drop = True)"
   ]
  },
  {
   "cell_type": "code",
   "execution_count": 220,
   "metadata": {},
   "outputs": [],
   "source": [
    "full_dataset['review_count'] = full_dataset['review_count'].astype('int')"
   ]
  },
  {
   "cell_type": "code",
   "execution_count": 247,
   "metadata": {},
   "outputs": [],
   "source": [
    "full_dataset.to_csv('restaurants_datasetv2.csv')"
   ]
  },
  {
   "cell_type": "code",
   "execution_count": 232,
   "metadata": {},
   "outputs": [
    {
     "output_type": "execute_result",
     "data": {
      "text/plain": [
       "   Unnamed: 0   restaurant_name  \\\n",
       "0           0     L’Afghanistan   \n",
       "1           1          Buzkashi   \n",
       "2           2           Afghani   \n",
       "3           3  La Table Afghane   \n",
       "4           4           Kootchi   \n",
       "\n",
       "                               link_to_restaurant category  review_count  \n",
       "0     https://www.yelp.fr/biz/l-afghanistan-paris   Afghan            46  \n",
       "1        https://www.yelp.fr/biz/buzkashi-paris-3   Afghan            20  \n",
       "2         https://www.yelp.fr/biz/afghani-paris-2   Afghan            45  \n",
       "3  https://www.yelp.fr/biz/la-table-afghane-paris   Afghan             4  \n",
       "4         https://www.yelp.fr/biz/kootchi-paris-2   Afghan            14  "
      ],
      "text/html": "<div>\n<style scoped>\n    .dataframe tbody tr th:only-of-type {\n        vertical-align: middle;\n    }\n\n    .dataframe tbody tr th {\n        vertical-align: top;\n    }\n\n    .dataframe thead th {\n        text-align: right;\n    }\n</style>\n<table border=\"1\" class=\"dataframe\">\n  <thead>\n    <tr style=\"text-align: right;\">\n      <th></th>\n      <th>Unnamed: 0</th>\n      <th>restaurant_name</th>\n      <th>link_to_restaurant</th>\n      <th>category</th>\n      <th>review_count</th>\n    </tr>\n  </thead>\n  <tbody>\n    <tr>\n      <th>0</th>\n      <td>0</td>\n      <td>L’Afghanistan</td>\n      <td>https://www.yelp.fr/biz/l-afghanistan-paris</td>\n      <td>Afghan</td>\n      <td>46</td>\n    </tr>\n    <tr>\n      <th>1</th>\n      <td>1</td>\n      <td>Buzkashi</td>\n      <td>https://www.yelp.fr/biz/buzkashi-paris-3</td>\n      <td>Afghan</td>\n      <td>20</td>\n    </tr>\n    <tr>\n      <th>2</th>\n      <td>2</td>\n      <td>Afghani</td>\n      <td>https://www.yelp.fr/biz/afghani-paris-2</td>\n      <td>Afghan</td>\n      <td>45</td>\n    </tr>\n    <tr>\n      <th>3</th>\n      <td>3</td>\n      <td>La Table Afghane</td>\n      <td>https://www.yelp.fr/biz/la-table-afghane-paris</td>\n      <td>Afghan</td>\n      <td>4</td>\n    </tr>\n    <tr>\n      <th>4</th>\n      <td>4</td>\n      <td>Kootchi</td>\n      <td>https://www.yelp.fr/biz/kootchi-paris-2</td>\n      <td>Afghan</td>\n      <td>14</td>\n    </tr>\n  </tbody>\n</table>\n</div>"
     },
     "metadata": {},
     "execution_count": 232
    }
   ],
   "source": [
    "full_dataset.head()"
   ]
  },
  {
   "cell_type": "code",
   "execution_count": 237,
   "metadata": {},
   "outputs": [],
   "source": [
    "#we drop duplicates with respect to the link which is unique for a restaurant\n",
    "full_dataset = full_dataset.drop_duplicates(subset = 'link_to_restaurant')"
   ]
  },
  {
   "cell_type": "code",
   "execution_count": null,
   "metadata": {},
   "outputs": [],
   "source": []
  }
 ]
}